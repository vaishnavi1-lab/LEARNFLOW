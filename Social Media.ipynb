{
 "cells": [
  {
   "cell_type": "code",
   "execution_count": 2,
   "id": "a9a81b7c",
   "metadata": {},
   "outputs": [],
   "source": [
    "import pandas as pd\n",
    "import numpy as np\n",
    "import datetime as datetime"
   ]
  },
  {
   "cell_type": "markdown",
   "id": "8c922663",
   "metadata": {},
   "source": [
    "# Data Cleaning and Preprocessing"
   ]
  },
  {
   "cell_type": "code",
   "execution_count": 3,
   "id": "fe1aa2a2",
   "metadata": {},
   "outputs": [],
   "source": [
    "sm=pd.read_csv(\"social_media.csv\")"
   ]
  },
  {
   "cell_type": "code",
   "execution_count": 4,
   "id": "8f833afb",
   "metadata": {},
   "outputs": [
    {
     "data": {
      "text/html": [
       "<div>\n",
       "<style scoped>\n",
       "    .dataframe tbody tr th:only-of-type {\n",
       "        vertical-align: middle;\n",
       "    }\n",
       "\n",
       "    .dataframe tbody tr th {\n",
       "        vertical-align: top;\n",
       "    }\n",
       "\n",
       "    .dataframe thead th {\n",
       "        text-align: right;\n",
       "    }\n",
       "</style>\n",
       "<table border=\"1\" class=\"dataframe\">\n",
       "  <thead>\n",
       "    <tr style=\"text-align: right;\">\n",
       "      <th></th>\n",
       "      <th>User ID</th>\n",
       "      <th>Username</th>\n",
       "      <th>Platform</th>\n",
       "      <th>Post ID</th>\n",
       "      <th>Post Text</th>\n",
       "      <th>Post Timestamp</th>\n",
       "      <th>Likes/Reactions</th>\n",
       "      <th>Comments</th>\n",
       "      <th>Shares/Retweets</th>\n",
       "      <th>Hashtags</th>\n",
       "      <th>...</th>\n",
       "      <th>Account Creation Date</th>\n",
       "      <th>Account Verification</th>\n",
       "      <th>User Engagement</th>\n",
       "      <th>User Interactions</th>\n",
       "      <th>User Activity</th>\n",
       "      <th>User Bio</th>\n",
       "      <th>User Description 1</th>\n",
       "      <th>User Description 2</th>\n",
       "      <th>Server Post</th>\n",
       "      <th>User Language</th>\n",
       "    </tr>\n",
       "  </thead>\n",
       "  <tbody>\n",
       "    <tr>\n",
       "      <th>0</th>\n",
       "      <td>101</td>\n",
       "      <td>@adventureSeeker</td>\n",
       "      <td>Instagram</td>\n",
       "      <td>82036</td>\n",
       "      <td>\"Experiencing the thrill of a lifetime! #Adven...</td>\n",
       "      <td>30-07-2023 14:45</td>\n",
       "      <td>1500</td>\n",
       "      <td>250</td>\n",
       "      <td>120</td>\n",
       "      <td>#AdventureTime</td>\n",
       "      <td>...</td>\n",
       "      <td>10-05-2019</td>\n",
       "      <td>Verified</td>\n",
       "      <td>1870</td>\n",
       "      <td>15700</td>\n",
       "      <td>3 posts per week</td>\n",
       "      <td>Adventure enthusiast</td>\n",
       "      <td>Nature lover</td>\n",
       "      <td>Seeker of wanderlust ??</td>\n",
       "      <td>California, USA</td>\n",
       "      <td>English</td>\n",
       "    </tr>\n",
       "    <tr>\n",
       "      <th>1</th>\n",
       "      <td>215</td>\n",
       "      <td>@foodieTraveler</td>\n",
       "      <td>Twitter</td>\n",
       "      <td>12463</td>\n",
       "      <td>\"Indulging in local delicacies! #FoodieTravels\"</td>\n",
       "      <td>30-07-2023 19:30</td>\n",
       "      <td>850</td>\n",
       "      <td>70</td>\n",
       "      <td>50</td>\n",
       "      <td>#FoodieTravels</td>\n",
       "      <td>...</td>\n",
       "      <td>15-09-2017</td>\n",
       "      <td>Not verified</td>\n",
       "      <td>970</td>\n",
       "      <td>8300</td>\n",
       "      <td>5 posts per week</td>\n",
       "      <td>Culinary explorer</td>\n",
       "      <td>Street food connoisseur</td>\n",
       "      <td>Travel addict ??</td>\n",
       "      <td>London, UK</td>\n",
       "      <td>English</td>\n",
       "    </tr>\n",
       "    <tr>\n",
       "      <th>2</th>\n",
       "      <td>303</td>\n",
       "      <td>@wellnessJourney</td>\n",
       "      <td>Facebook</td>\n",
       "      <td>45982</td>\n",
       "      <td>\"Finding peace and balance in nature!</td>\n",
       "      <td>30-07-2023 08:15</td>\n",
       "      <td>680</td>\n",
       "      <td>80</td>\n",
       "      <td>40</td>\n",
       "      <td>#WellnessJourney</td>\n",
       "      <td>...</td>\n",
       "      <td>02-03-2020</td>\n",
       "      <td>Not verified</td>\n",
       "      <td>800</td>\n",
       "      <td>6200</td>\n",
       "      <td>2 posts per week</td>\n",
       "      <td>Wellness enthusiast</td>\n",
       "      <td>Yogi in training</td>\n",
       "      <td>Mindfulness advocate</td>\n",
       "      <td>San Francisco, USA</td>\n",
       "      <td>English</td>\n",
       "    </tr>\n",
       "    <tr>\n",
       "      <th>3</th>\n",
       "      <td>404</td>\n",
       "      <td>@fitnessFreak</td>\n",
       "      <td>Instagram</td>\n",
       "      <td>16572</td>\n",
       "      <td>\"Pushing my limits in the gym!</td>\n",
       "      <td>30-07-2023 12:30</td>\n",
       "      <td>1850</td>\n",
       "      <td>350</td>\n",
       "      <td>180</td>\n",
       "      <td>#FitnessGoals</td>\n",
       "      <td>...</td>\n",
       "      <td>12-08-2016</td>\n",
       "      <td>Verified</td>\n",
       "      <td>2380</td>\n",
       "      <td>32750</td>\n",
       "      <td>4 posts per week</td>\n",
       "      <td>Fitness enthusiast</td>\n",
       "      <td>Health is wealth</td>\n",
       "      <td>Workout addict</td>\n",
       "      <td>Los Angeles, USA</td>\n",
       "      <td>English</td>\n",
       "    </tr>\n",
       "    <tr>\n",
       "      <th>4</th>\n",
       "      <td>521</td>\n",
       "      <td>@foodExplorer</td>\n",
       "      <td>Twitter</td>\n",
       "      <td>75589</td>\n",
       "      <td>\"Discovering unique flavors around the world!</td>\n",
       "      <td>30-07-2023 16:20</td>\n",
       "      <td>950</td>\n",
       "      <td>80</td>\n",
       "      <td>60</td>\n",
       "      <td>#Foodies</td>\n",
       "      <td>...</td>\n",
       "      <td>28-02-2018</td>\n",
       "      <td>Not verified</td>\n",
       "      <td>1090</td>\n",
       "      <td>9080</td>\n",
       "      <td>3 posts per week</td>\n",
       "      <td>Culinary adventurer</td>\n",
       "      <td>Gastronomic traveler</td>\n",
       "      <td>Bon app?it!</td>\n",
       "      <td>Paris, France</td>\n",
       "      <td>English</td>\n",
       "    </tr>\n",
       "  </tbody>\n",
       "</table>\n",
       "<p>5 rows × 28 columns</p>\n",
       "</div>"
      ],
      "text/plain": [
       "   User ID          Username   Platform  Post ID  \\\n",
       "0      101  @adventureSeeker  Instagram    82036   \n",
       "1      215   @foodieTraveler    Twitter    12463   \n",
       "2      303  @wellnessJourney   Facebook    45982   \n",
       "3      404     @fitnessFreak  Instagram    16572   \n",
       "4      521     @foodExplorer    Twitter    75589   \n",
       "\n",
       "                                           Post Text    Post Timestamp  \\\n",
       "0  \"Experiencing the thrill of a lifetime! #Adven...  30-07-2023 14:45   \n",
       "1    \"Indulging in local delicacies! #FoodieTravels\"  30-07-2023 19:30   \n",
       "2              \"Finding peace and balance in nature!  30-07-2023 08:15   \n",
       "3                     \"Pushing my limits in the gym!  30-07-2023 12:30   \n",
       "4      \"Discovering unique flavors around the world!  30-07-2023 16:20   \n",
       "\n",
       "   Likes/Reactions  Comments  Shares/Retweets          Hashtags  ...  \\\n",
       "0             1500       250              120    #AdventureTime  ...   \n",
       "1              850        70               50    #FoodieTravels  ...   \n",
       "2              680        80               40  #WellnessJourney  ...   \n",
       "3             1850       350              180     #FitnessGoals  ...   \n",
       "4              950        80               60          #Foodies  ...   \n",
       "\n",
       "  Account Creation Date Account Verification User Engagement  \\\n",
       "0            10-05-2019             Verified            1870   \n",
       "1            15-09-2017         Not verified             970   \n",
       "2            02-03-2020         Not verified             800   \n",
       "3            12-08-2016             Verified            2380   \n",
       "4            28-02-2018         Not verified            1090   \n",
       "\n",
       "  User Interactions     User Activity              User Bio  \\\n",
       "0             15700  3 posts per week  Adventure enthusiast   \n",
       "1              8300  5 posts per week     Culinary explorer   \n",
       "2              6200  2 posts per week   Wellness enthusiast   \n",
       "3             32750  4 posts per week    Fitness enthusiast   \n",
       "4              9080  3 posts per week   Culinary adventurer   \n",
       "\n",
       "        User Description 1       User Description 2         Server Post  \\\n",
       "0             Nature lover  Seeker of wanderlust ??     California, USA   \n",
       "1  Street food connoisseur         Travel addict ??          London, UK   \n",
       "2         Yogi in training     Mindfulness advocate  San Francisco, USA   \n",
       "3         Health is wealth           Workout addict    Los Angeles, USA   \n",
       "4     Gastronomic traveler              Bon app?it!       Paris, France   \n",
       "\n",
       "  User Language  \n",
       "0       English  \n",
       "1       English  \n",
       "2       English  \n",
       "3       English  \n",
       "4       English  \n",
       "\n",
       "[5 rows x 28 columns]"
      ]
     },
     "execution_count": 4,
     "metadata": {},
     "output_type": "execute_result"
    }
   ],
   "source": [
    "sm.head()"
   ]
  },
  {
   "cell_type": "code",
   "execution_count": 5,
   "id": "5a390e39",
   "metadata": {},
   "outputs": [
    {
     "data": {
      "text/html": [
       "<div>\n",
       "<style scoped>\n",
       "    .dataframe tbody tr th:only-of-type {\n",
       "        vertical-align: middle;\n",
       "    }\n",
       "\n",
       "    .dataframe tbody tr th {\n",
       "        vertical-align: top;\n",
       "    }\n",
       "\n",
       "    .dataframe thead th {\n",
       "        text-align: right;\n",
       "    }\n",
       "</style>\n",
       "<table border=\"1\" class=\"dataframe\">\n",
       "  <thead>\n",
       "    <tr style=\"text-align: right;\">\n",
       "      <th></th>\n",
       "      <th>User ID</th>\n",
       "      <th>Username</th>\n",
       "      <th>Platform</th>\n",
       "      <th>Post ID</th>\n",
       "      <th>Post Text</th>\n",
       "      <th>Post Timestamp</th>\n",
       "      <th>Likes/Reactions</th>\n",
       "      <th>Comments</th>\n",
       "      <th>Shares/Retweets</th>\n",
       "      <th>Hashtags</th>\n",
       "      <th>...</th>\n",
       "      <th>Account Creation Date</th>\n",
       "      <th>Account Verification</th>\n",
       "      <th>User Engagement</th>\n",
       "      <th>User Interactions</th>\n",
       "      <th>User Activity</th>\n",
       "      <th>User Bio</th>\n",
       "      <th>User Description 1</th>\n",
       "      <th>User Description 2</th>\n",
       "      <th>Server Post</th>\n",
       "      <th>User Language</th>\n",
       "    </tr>\n",
       "  </thead>\n",
       "  <tbody>\n",
       "    <tr>\n",
       "      <th>34</th>\n",
       "      <td>817</td>\n",
       "      <td>@fashionGuru</td>\n",
       "      <td>YouTube</td>\n",
       "      <td>23879</td>\n",
       "      <td>\"Unlocking the secrets of style!</td>\n",
       "      <td>30-07-2023 12:10</td>\n",
       "      <td>520</td>\n",
       "      <td>70</td>\n",
       "      <td>40</td>\n",
       "      <td>#FashionInsider</td>\n",
       "      <td>...</td>\n",
       "      <td>25-07-2021</td>\n",
       "      <td>Not verified</td>\n",
       "      <td>630</td>\n",
       "      <td>5540</td>\n",
       "      <td>3 posts per week</td>\n",
       "      <td>Fashionista</td>\n",
       "      <td>Trend spotter</td>\n",
       "      <td>Runway observer</td>\n",
       "      <td>Paris, France</td>\n",
       "      <td>English</td>\n",
       "    </tr>\n",
       "    <tr>\n",
       "      <th>35</th>\n",
       "      <td>940</td>\n",
       "      <td>@bookNerd</td>\n",
       "      <td>Goodreads</td>\n",
       "      <td>82714</td>\n",
       "      <td>\"Getting lost in the magic of books!</td>\n",
       "      <td>30-07-2023 16:25</td>\n",
       "      <td>370</td>\n",
       "      <td>50</td>\n",
       "      <td>30</td>\n",
       "      <td>#BookObsession</td>\n",
       "      <td>...</td>\n",
       "      <td>12-08-2020</td>\n",
       "      <td>Not verified</td>\n",
       "      <td>450</td>\n",
       "      <td>5120</td>\n",
       "      <td>2 posts per week</td>\n",
       "      <td>Bookworm</td>\n",
       "      <td>Literary enthusiast</td>\n",
       "      <td>Words are my refuge</td>\n",
       "      <td>New York City, USA</td>\n",
       "      <td>English</td>\n",
       "    </tr>\n",
       "    <tr>\n",
       "      <th>36</th>\n",
       "      <td>108</td>\n",
       "      <td>@fitnessFreak</td>\n",
       "      <td>Twitter</td>\n",
       "      <td>95128</td>\n",
       "      <td>\"Pushing boundaries for a fitter tomorrow!</td>\n",
       "      <td>30-07-2023 20:00</td>\n",
       "      <td>760</td>\n",
       "      <td>110</td>\n",
       "      <td>70</td>\n",
       "      <td>#FitnessJunkie</td>\n",
       "      <td>...</td>\n",
       "      <td>18-09-2020</td>\n",
       "      <td>Not verified</td>\n",
       "      <td>940</td>\n",
       "      <td>8020</td>\n",
       "      <td>1 post per day</td>\n",
       "      <td>Fitness fanatic</td>\n",
       "      <td>Workout warrior</td>\n",
       "      <td>Health is wealth</td>\n",
       "      <td>Los Angeles, USA</td>\n",
       "      <td>English</td>\n",
       "    </tr>\n",
       "    <tr>\n",
       "      <th>37</th>\n",
       "      <td>201</td>\n",
       "      <td>@foodieJourney</td>\n",
       "      <td>Instagram</td>\n",
       "      <td>80347</td>\n",
       "      <td>\"Embarking on a culinary journey!</td>\n",
       "      <td>30-07-2023 18:25</td>\n",
       "      <td>590</td>\n",
       "      <td>80</td>\n",
       "      <td>50</td>\n",
       "      <td>#FoodExplorer</td>\n",
       "      <td>...</td>\n",
       "      <td>28-01-2019</td>\n",
       "      <td>Not verified</td>\n",
       "      <td>720</td>\n",
       "      <td>6230</td>\n",
       "      <td>3 posts per week</td>\n",
       "      <td>Foodie at heart</td>\n",
       "      <td>Tasting cultures</td>\n",
       "      <td>Culinary storyteller</td>\n",
       "      <td>Barcelona, Spain</td>\n",
       "      <td>English</td>\n",
       "    </tr>\n",
       "    <tr>\n",
       "      <th>38</th>\n",
       "      <td>305</td>\n",
       "      <td>@techGeek</td>\n",
       "      <td>Facebook</td>\n",
       "      <td>20983</td>\n",
       "      <td>\"Unraveling the marvels of technology!</td>\n",
       "      <td>30-07-2023 12:50</td>\n",
       "      <td>670</td>\n",
       "      <td>110</td>\n",
       "      <td>50</td>\n",
       "      <td>#TechEnthusiast</td>\n",
       "      <td>...</td>\n",
       "      <td>11-01-2016</td>\n",
       "      <td>Verified</td>\n",
       "      <td>830</td>\n",
       "      <td>20200</td>\n",
       "      <td>4 posts per week</td>\n",
       "      <td>Tech geek</td>\n",
       "      <td>Coding wizard</td>\n",
       "      <td>Futurist</td>\n",
       "      <td>Silicon Valley, USA</td>\n",
       "      <td>English</td>\n",
       "    </tr>\n",
       "  </tbody>\n",
       "</table>\n",
       "<p>5 rows × 28 columns</p>\n",
       "</div>"
      ],
      "text/plain": [
       "    User ID        Username   Platform  Post ID  \\\n",
       "34      817    @fashionGuru    YouTube    23879   \n",
       "35      940       @bookNerd  Goodreads    82714   \n",
       "36      108   @fitnessFreak    Twitter    95128   \n",
       "37      201  @foodieJourney  Instagram    80347   \n",
       "38      305       @techGeek   Facebook    20983   \n",
       "\n",
       "                                     Post Text    Post Timestamp  \\\n",
       "34            \"Unlocking the secrets of style!  30-07-2023 12:10   \n",
       "35        \"Getting lost in the magic of books!  30-07-2023 16:25   \n",
       "36  \"Pushing boundaries for a fitter tomorrow!  30-07-2023 20:00   \n",
       "37           \"Embarking on a culinary journey!  30-07-2023 18:25   \n",
       "38      \"Unraveling the marvels of technology!  30-07-2023 12:50   \n",
       "\n",
       "    Likes/Reactions  Comments  Shares/Retweets         Hashtags  ...  \\\n",
       "34              520        70               40  #FashionInsider  ...   \n",
       "35              370        50               30   #BookObsession  ...   \n",
       "36              760       110               70   #FitnessJunkie  ...   \n",
       "37              590        80               50    #FoodExplorer  ...   \n",
       "38              670       110               50  #TechEnthusiast  ...   \n",
       "\n",
       "   Account Creation Date Account Verification User Engagement  \\\n",
       "34            25-07-2021         Not verified             630   \n",
       "35            12-08-2020         Not verified             450   \n",
       "36            18-09-2020         Not verified             940   \n",
       "37            28-01-2019         Not verified             720   \n",
       "38            11-01-2016             Verified             830   \n",
       "\n",
       "   User Interactions     User Activity         User Bio   User Description 1  \\\n",
       "34              5540  3 posts per week      Fashionista        Trend spotter   \n",
       "35              5120  2 posts per week         Bookworm  Literary enthusiast   \n",
       "36              8020    1 post per day  Fitness fanatic      Workout warrior   \n",
       "37              6230  3 posts per week  Foodie at heart     Tasting cultures   \n",
       "38             20200  4 posts per week        Tech geek        Coding wizard   \n",
       "\n",
       "      User Description 2          Server Post User Language  \n",
       "34       Runway observer        Paris, France       English  \n",
       "35   Words are my refuge   New York City, USA       English  \n",
       "36      Health is wealth     Los Angeles, USA       English  \n",
       "37  Culinary storyteller     Barcelona, Spain       English  \n",
       "38              Futurist  Silicon Valley, USA       English  \n",
       "\n",
       "[5 rows x 28 columns]"
      ]
     },
     "execution_count": 5,
     "metadata": {},
     "output_type": "execute_result"
    }
   ],
   "source": [
    "sm.tail()"
   ]
  },
  {
   "cell_type": "code",
   "execution_count": 7,
   "id": "45b3aca2",
   "metadata": {},
   "outputs": [
    {
     "name": "stdout",
     "output_type": "stream",
     "text": [
      "None\n"
     ]
    }
   ],
   "source": [
    "print(sm.drop_duplicates(inplace=True))"
   ]
  },
  {
   "cell_type": "markdown",
   "id": "d9ffadad",
   "metadata": {},
   "source": [
    "# Cleaned Dataset"
   ]
  },
  {
   "cell_type": "code",
   "execution_count": 12,
   "id": "5a72f21d",
   "metadata": {},
   "outputs": [
    {
     "name": "stdout",
     "output_type": "stream",
     "text": [
      "\n",
      "Cleaned Dataset Structure:\n",
      "   User ID          Username   Platform  Post ID  \\\n",
      "0      101  @adventureSeeker  Instagram    82036   \n",
      "1      215   @foodieTraveler    Twitter    12463   \n",
      "2      303  @wellnessJourney   Facebook    45982   \n",
      "3      404     @fitnessFreak  Instagram    16572   \n",
      "4      521     @foodExplorer    Twitter    75589   \n",
      "\n",
      "                                           Post Text      Post Timestamp  \\\n",
      "0  \"Experiencing the thrill of a lifetime! #Adven... 2023-07-30 14:45:00   \n",
      "1    \"Indulging in local delicacies! #FoodieTravels\" 2023-07-30 19:30:00   \n",
      "2              \"Finding peace and balance in nature! 2023-07-30 08:15:00   \n",
      "3                     \"Pushing my limits in the gym! 2023-07-30 12:30:00   \n",
      "4      \"Discovering unique flavors around the world! 2023-07-30 16:20:00   \n",
      "\n",
      "   Likes/Reactions  Comments  Shares/Retweets          Hashtags  ...  \\\n",
      "0             1500       250              120    #AdventureTime  ...   \n",
      "1              850        70               50    #FoodieTravels  ...   \n",
      "2              680        80               40  #WellnessJourney  ...   \n",
      "3             1850       350              180     #FitnessGoals  ...   \n",
      "4              950        80               60          #Foodies  ...   \n",
      "\n",
      "  Account Creation Date Account Verification User Engagement  \\\n",
      "0            2019-10-05             Verified            1870   \n",
      "1            2017-09-15         Not verified             970   \n",
      "2            2020-02-03         Not verified             800   \n",
      "3            2016-12-08             Verified            2380   \n",
      "4            2018-02-28         Not verified            1090   \n",
      "\n",
      "  User Interactions     User Activity              User Bio  \\\n",
      "0             15700  3 posts per week  Adventure enthusiast   \n",
      "1              8300  5 posts per week     Culinary explorer   \n",
      "2              6200  2 posts per week   Wellness enthusiast   \n",
      "3             32750  4 posts per week    Fitness enthusiast   \n",
      "4              9080  3 posts per week   Culinary adventurer   \n",
      "\n",
      "        User Description 1       User Description 2         Server Post  \\\n",
      "0             Nature lover  Seeker of wanderlust ??     California, USA   \n",
      "1  Street food connoisseur         Travel addict ??          London, UK   \n",
      "2         Yogi in training     Mindfulness advocate  San Francisco, USA   \n",
      "3         Health is wealth           Workout addict    Los Angeles, USA   \n",
      "4     Gastronomic traveler              Bon app?it!       Paris, France   \n",
      "\n",
      "  User Language  \n",
      "0       English  \n",
      "1       English  \n",
      "2       English  \n",
      "3       English  \n",
      "4       English  \n",
      "\n",
      "[5 rows x 28 columns]\n"
     ]
    }
   ],
   "source": [
    "essential_columns = ['User ID', 'Username', 'Platform', 'Post ID', 'Post Text', 'Post Timestamp']\n",
    "sm.dropna(subset=essential_columns, inplace=True)\n",
    "\n",
    "sm['Post Timestamp'] = pd.to_datetime(sm['Post Timestamp'], errors='coerce')\n",
    "sm['Account Creation Date'] = pd.to_datetime(sm['Account Creation Date'], errors='coerce')\n",
    "\n",
    "print(\"\\nCleaned Dataset Structure:\")\n",
    "print(sm.head())"
   ]
  },
  {
   "cell_type": "markdown",
   "id": "cbdd6072",
   "metadata": {},
   "source": [
    "# Analysis and Influence Scoring"
   ]
  },
  {
   "cell_type": "code",
   "execution_count": 13,
   "id": "d98324ed",
   "metadata": {},
   "outputs": [
    {
     "name": "stdout",
     "output_type": "stream",
     "text": [
      "\n",
      "Dataset with Influence Scores:\n",
      "   User ID          Username   Platform  Post ID  \\\n",
      "0      101  @adventureSeeker  Instagram    82036   \n",
      "1      215   @foodieTraveler    Twitter    12463   \n",
      "2      303  @wellnessJourney   Facebook    45982   \n",
      "3      404     @fitnessFreak  Instagram    16572   \n",
      "4      521     @foodExplorer    Twitter    75589   \n",
      "\n",
      "                                           Post Text      Post Timestamp  \\\n",
      "0  \"Experiencing the thrill of a lifetime! #Adven... 2023-07-30 14:45:00   \n",
      "1    \"Indulging in local delicacies! #FoodieTravels\" 2023-07-30 19:30:00   \n",
      "2              \"Finding peace and balance in nature! 2023-07-30 08:15:00   \n",
      "3                     \"Pushing my limits in the gym! 2023-07-30 12:30:00   \n",
      "4      \"Discovering unique flavors around the world! 2023-07-30 16:20:00   \n",
      "\n",
      "   Likes/Reactions  Comments  Shares/Retweets          Hashtags  ...  \\\n",
      "0             1500       250              120    #AdventureTime  ...   \n",
      "1              850        70               50    #FoodieTravels  ...   \n",
      "2              680        80               40  #WellnessJourney  ...   \n",
      "3             1850       350              180     #FitnessGoals  ...   \n",
      "4              950        80               60          #Foodies  ...   \n",
      "\n",
      "  Account Verification User Engagement User Interactions     User Activity  \\\n",
      "0             Verified            1870             15700  3 posts per week   \n",
      "1         Not verified             970              8300  5 posts per week   \n",
      "2         Not verified             800              6200  2 posts per week   \n",
      "3             Verified            2380             32750  4 posts per week   \n",
      "4         Not verified            1090              9080  3 posts per week   \n",
      "\n",
      "               User Bio       User Description 1       User Description 2  \\\n",
      "0  Adventure enthusiast             Nature lover  Seeker of wanderlust ??   \n",
      "1     Culinary explorer  Street food connoisseur         Travel addict ??   \n",
      "2   Wellness enthusiast         Yogi in training     Mindfulness advocate   \n",
      "3    Fitness enthusiast         Health is wealth           Workout addict   \n",
      "4   Culinary adventurer     Gastronomic traveler              Bon app?it!   \n",
      "\n",
      "          Server Post User Language Influence Score  \n",
      "0     California, USA       English            2360  \n",
      "1          London, UK       English            1140  \n",
      "2  San Francisco, USA       English             960  \n",
      "3    Los Angeles, USA       English            3090  \n",
      "4       Paris, France       English            1290  \n",
      "\n",
      "[5 rows x 29 columns]\n",
      "\n",
      "Top 10 Influential Users:\n",
      "7        @petWhisperer\n",
      "3        @fitnessFreak\n",
      "16        @fashionIcon\n",
      "0     @adventureSeeker\n",
      "20        @fitnessGuru\n",
      "12         @petRescuer\n",
      "32        @petAdvocate\n",
      "13        @natureLover\n",
      "17          @gamerGeek\n",
      "21           @petLover\n",
      "Name: Username, dtype: object\n"
     ]
    }
   ],
   "source": [
    "influence_metrics = ['Likes/Reactions', 'Comments', 'Shares/Retweets']\n",
    "\n",
    "# Calculate User Engagement\n",
    "sm['User Engagement'] = sm[influence_metrics].sum(axis=1)\n",
    "\n",
    "# Example: Calculate Influence Score\n",
    "# You can customize the weights based on the importance of each metric\n",
    "weights = {'Likes/Reactions': 1, 'Comments': 2, 'Shares/Retweets': 3}\n",
    "sm['Influence Score'] = sm[influence_metrics].dot(pd.Series(weights))\n",
    "\n",
    "# Display the dataset with influence scores\n",
    "print(\"\\nDataset with Influence Scores:\")\n",
    "print(sm.head())\n",
    "\n",
    "# Identify influential users\n",
    "influential_users = sm.sort_values(by='Influence Score', ascending=False)['Username'].head(10)\n",
    "print(\"\\nTop 10 Influential Users:\")\n",
    "print(influential_users)"
   ]
  },
  {
   "cell_type": "code",
   "execution_count": 17,
   "id": "c97acdd3",
   "metadata": {},
   "outputs": [
    {
     "name": "stderr",
     "output_type": "stream",
     "text": [
      "[nltk_data] Downloading package punkt to\n",
      "[nltk_data]     C:\\Users\\Administrator\\AppData\\Roaming\\nltk_data...\n",
      "[nltk_data]   Unzipping tokenizers\\punkt.zip.\n"
     ]
    },
    {
     "data": {
      "text/plain": [
       "True"
      ]
     },
     "execution_count": 17,
     "metadata": {},
     "output_type": "execute_result"
    }
   ],
   "source": [
    "from nltk.tokenize import word_tokenize\n",
    "from collections import Counter\n",
    "import nltk\n",
    "nltk.download('punkt')"
   ]
  },
  {
   "cell_type": "code",
   "execution_count": 18,
   "id": "67caf17c",
   "metadata": {},
   "outputs": [
    {
     "name": "stdout",
     "output_type": "stream",
     "text": [
      "\n",
      "Top 10 Trending Hashtags:\n",
      "#: 3\n"
     ]
    }
   ],
   "source": [
    "sm['Hashtags'] = sm['Post Text'].apply(lambda x: [word.lower() for word in word_tokenize(x) if word.startswith('#')])\n",
    "\n",
    "# Flatten the list of hashtags\n",
    "all_hashtags = [tag for tags in sm['Hashtags'] for tag in tags]\n",
    "\n",
    "# Count the occurrence of each hashtag\n",
    "hashtag_counts = Counter(all_hashtags)\n",
    "\n",
    "# Display the top N trending hashtags\n",
    "top_trending_hashtags = hashtag_counts.most_common(10)\n",
    "print(\"\\nTop 10 Trending Hashtags:\")\n",
    "for hashtag, count in top_trending_hashtags:\n",
    "    print(f\"{hashtag}: {count}\")"
   ]
  },
  {
   "cell_type": "markdown",
   "id": "e8c31ac1",
   "metadata": {},
   "source": [
    "# Audience Analysis"
   ]
  },
  {
   "cell_type": "code",
   "execution_count": 22,
   "id": "d8887049",
   "metadata": {},
   "outputs": [
    {
     "name": "stdout",
     "output_type": "stream",
     "text": [
      "\n",
      "Audience Analysis Results:\n",
      "           Username User Engagement User Activity              User Bio\n",
      "0  @adventureSeeker            1500             1  Adventure enthusiast\n",
      "1   @foodieTraveler             850             1     Culinary explorer\n",
      "2  @wellnessJourney             680             1   Wellness enthusiast\n",
      "3     @fitnessFreak            2610             2    Fitness enthusiast\n",
      "4     @foodExplorer            1710             2   Culinary adventurer\n"
     ]
    }
   ],
   "source": [
    "unique_users = sm['Username'].unique()\n",
    "\n",
    "audience_analysis = pd.DataFrame(columns=['Username', 'User Engagement', 'User Activity', 'User Bio'])\n",
    "\n",
    "for user in unique_users:\n",
    "    user_data = sm[sm['Username'] == user]\n",
    "    \n",
    "    user_engagement = user_data['Likes/Reactions'].sum()\n",
    "    \n",
    "    user_activity = len(user_data)\n",
    "    \n",
    "    user_bio = user_data.iloc[0]['User Bio']\n",
    "    \n",
    "    audience_analysis = audience_analysis.append({\n",
    "        'Username': user,\n",
    "        'User Engagement': user_engagement,\n",
    "        'User Activity': user_activity,\n",
    "        'User Bio': user_bio\n",
    "    }, ignore_index=True)\n",
    "\n",
    "print(\"\\nAudience Analysis Results:\")\n",
    "print(audience_analysis.head())\n"
   ]
  },
  {
   "cell_type": "code",
   "execution_count": 23,
   "id": "90216eb8",
   "metadata": {},
   "outputs": [],
   "source": [
    "# Influence Socre Visualization"
   ]
  },
  {
   "cell_type": "code",
   "execution_count": 24,
   "id": "d7eaf639",
   "metadata": {},
   "outputs": [
    {
     "data": {
      "image/png": "[encoded data removed]",
      "text/plain": [
       "<Figure size 1000x600 with 1 Axes>"
      ]
     },
     "metadata": {},
     "output_type": "display_data"
    }
   ],
   "source": [
    "import matplotlib.pyplot as plt\n",
    "\n",
    "# Bar plot of top influencers\n",
    "top_influencers = sm.sort_values(by='Influence Score', ascending=False).head(10)\n",
    "plt.figure(figsize=(10, 6))\n",
    "plt.bar(top_influencers['Username'], top_influencers['Influence Score'])\n",
    "plt.title('Top 10 Influencers')\n",
    "plt.xlabel('Username')\n",
    "plt.ylabel('Influence Score')\n",
    "plt.xticks(rotation=45, ha='right')\n",
    "plt.show()"
   ]
  },
  {
   "cell_type": "markdown",
   "id": "7e381235",
   "metadata": {},
   "source": [
    "# Trending Hashtags Visualization"
   ]
  },
  {
   "cell_type": "code",
   "execution_count": 26,
   "id": "b45f2382",
   "metadata": {},
   "outputs": [
    {
     "name": "stdout",
     "output_type": "stream",
     "text": [
      "Collecting wordcloud\n",
      "  Obtaining dependency information for wordcloud from https://files.pythonhosted.org/packages/d0/67/ebbc7e0c6da1753d7c30c2ca47c6bd11dbf2259cfa9c98151f4ab3d8b950/wordcloud-1.9.3-cp39-cp39-win_amd64.whl.metadata\n",
      "  Downloading wordcloud-1.9.3-cp39-cp39-win_amd64.whl.metadata (3.5 kB)\n",
      "Requirement already satisfied: numpy>=1.6.1 in c:\\programdata\\anaconda3\\lib\\site-packages (from wordcloud) (1.21.5)\n",
      "Requirement already satisfied: pillow in c:\\programdata\\anaconda3\\lib\\site-packages (from wordcloud) (9.2.0)\n",
      "Requirement already satisfied: matplotlib in c:\\programdata\\anaconda3\\lib\\site-packages (from wordcloud) (3.5.2)\n",
      "Requirement already satisfied: cycler>=0.10 in c:\\programdata\\anaconda3\\lib\\site-packages (from matplotlib->wordcloud) (0.11.0)\n",
      "Requirement already satisfied: fonttools>=4.22.0 in c:\\programdata\\anaconda3\\lib\\site-packages (from matplotlib->wordcloud) (4.25.0)\n",
      "Requirement already satisfied: kiwisolver>=1.0.1 in c:\\programdata\\anaconda3\\lib\\site-packages (from matplotlib->wordcloud) (1.4.2)\n",
      "Requirement already satisfied: packaging>=20.0 in c:\\programdata\\anaconda3\\lib\\site-packages (from matplotlib->wordcloud) (21.3)\n",
      "Requirement already satisfied: pyparsing>=2.2.1 in c:\\programdata\\anaconda3\\lib\\site-packages (from matplotlib->wordcloud) (3.0.9)\n",
      "Requirement already satisfied: python-dateutil>=2.7 in c:\\programdata\\anaconda3\\lib\\site-packages (from matplotlib->wordcloud) (2.8.2)\n",
      "Requirement already satisfied: six>=1.5 in c:\\programdata\\anaconda3\\lib\\site-packages (from python-dateutil>=2.7->matplotlib->wordcloud) (1.16.0)\n",
      "Downloading wordcloud-1.9.3-cp39-cp39-win_amd64.whl (300 kB)\n",
      "   -------------------------------------- 300.6/300.6 kB 640.9 kB/s eta 0:00:00\n",
      "Installing collected packages: wordcloud\n",
      "Successfully installed wordcloud-1.9.3\n"
     ]
    },
    {
     "name": "stderr",
     "output_type": "stream",
     "text": [
      "\n",
      "[notice] A new release of pip is available: 23.2.1 -> 23.3.1\n",
      "[notice] To update, run: python.exe -m pip install --upgrade pip\n"
     ]
    }
   ],
   "source": [
    "!pip install wordcloud"
   ]
  },
  {
   "cell_type": "code",
   "execution_count": 30,
   "id": "2e9fd53f",
   "metadata": {},
   "outputs": [
    {
     "data": {
      "image/png": "[encoded data removed]",
      "text/plain": [
       "<Figure size 1000x600 with 1 Axes>"
      ]
     },
     "metadata": {},
     "output_type": "display_data"
    },
    {
     "name": "stderr",
     "output_type": "stream",
     "text": [
      "C:\\Users\\Administrator\\AppData\\Local\\Temp\\ipykernel_5324\\1986146043.py:14: FutureWarning: \n",
      "\n",
      "Passing `palette` without assigning `hue` is deprecated and will be removed in v0.14.0. Assign the `y` variable to `hue` and set `legend=False` for the same effect.\n",
      "\n",
      "  sns.barplot(x=[count for _, count in top_trending_hashtags], y=[hashtag for hashtag, _ in top_trending_hashtags], palette='viridis')\n"
     ]
    },
    {
     "data": {
      "image/png": "[encoded data removed]",
      "text/plain": [
       "<Figure size 1000x600 with 1 Axes>"
      ]
     },
     "metadata": {},
     "output_type": "display_data"
    }
   ],
   "source": [
    "import seaborn as sns\n",
    "from wordcloud import WordCloud\n",
    "import matplotlib.pyplot as plt\n",
    "\n",
    "plt.figure(figsize=(10, 6))\n",
    "wordcloud = WordCloud(width=800, height=400, random_state=21, max_font_size=110).generate_from_frequencies(hashtag_counts)\n",
    "plt.imshow(wordcloud, interpolation=\"bilinear\")\n",
    "plt.axis('off')\n",
    "plt.title('Trending Hashtags Word Cloud')\n",
    "plt.show()\n",
    "\n",
    "# Bar plot for top trending hashtags\n",
    "plt.figure(figsize=(10, 6))\n",
    "sns.barplot(x=[count for _, count in top_trending_hashtags], y=[hashtag for hashtag, _ in top_trending_hashtags], palette='viridis')\n",
    "plt.title('Top 10 Trending Hashtags')\n",
    "plt.xlabel('Count')\n",
    "plt.ylabel('Hashtags')\n",
    "plt.show()"
   ]
  },
  {
   "cell_type": "markdown",
   "id": "c0ff75f5",
   "metadata": {},
   "source": [
    "# Audience Analysis Visualization"
   ]
  },
  {
   "cell_type": "code",
   "execution_count": 31,
   "id": "cb85c59a",
   "metadata": {},
   "outputs": [
    {
     "data": {
      "image/png": "[encoded data removed]",
      "text/plain": [
       "<Figure size 1000x600 with 1 Axes>"
      ]
     },
     "metadata": {},
     "output_type": "display_data"
    },
    {
     "data": {
      "image/png": "[encoded data removed]",
      "text/plain": [
       "<Figure size 1000x600 with 1 Axes>"
      ]
     },
     "metadata": {},
     "output_type": "display_data"
    }
   ],
   "source": [
    "# Scatter plot for User Engagement vs User Activity\n",
    "plt.figure(figsize=(10, 6))\n",
    "plt.scatter(audience_analysis['User Activity'], audience_analysis['User Engagement'], alpha=0.7)\n",
    "plt.title('User Engagement vs User Activity')\n",
    "plt.xlabel('User Activity')\n",
    "plt.ylabel('User Engagement')\n",
    "plt.show()\n",
    "\n",
    "# Histogram for User Engagement distribution\n",
    "plt.figure(figsize=(10, 6))\n",
    "plt.hist(audience_analysis['User Engagement'], bins=20, color='skyblue', edgecolor='black')\n",
    "plt.title('Distribution of User Engagement')\n",
    "plt.xlabel('User Engagement')\n",
    "plt.ylabel('Frequency')\n",
    "plt.show()\n"
   ]
  },
  {
   "cell_type": "code",
   "execution_count": null,
   "id": "9d7bcb35",
   "metadata": {},
   "outputs": [],
   "source": []
  }
 ],
 "metadata": {
  "kernelspec": {
   "display_name": "Python 3 (ipykernel)",
   "language": "python",
   "name": "python3"
  },
  "language_info": {
   "codemirror_mode": {
    "name": "ipython",
    "version": 3
   },
   "file_extension": ".py",
   "mimetype": "text/x-python",
   "name": "python",
   "nbconvert_exporter": "python",
   "pygments_lexer": "ipython3",
   "version": "3.9.13"
  }
 },
 "nbformat": 4,
 "nbformat_minor": 5
}
