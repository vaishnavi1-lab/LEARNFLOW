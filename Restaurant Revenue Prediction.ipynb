{
 "cells": [
  {
   "cell_type": "code",
   "execution_count": 9,
   "id": "38ba94cd",
   "metadata": {},
   "outputs": [
    {
     "name": "stdout",
     "output_type": "stream",
     "text": [
      "Collecting optuna\n",
      "  Obtaining dependency information for optuna from https://files.pythonhosted.org/packages/4c/6a/219a431aaf81b3eb3070fd2d58116baa366d3072f43bbcc87dc3495b7546/optuna-3.5.0-py3-none-any.whl.metadata\n",
      "  Downloading optuna-3.5.0-py3-none-any.whl.metadata (17 kB)\n",
      "Collecting alembic>=1.5.0 (from optuna)\n",
      "  Obtaining dependency information for alembic>=1.5.0 from https://files.pythonhosted.org/packages/7f/50/9fb3a5c80df6eb6516693270621676980acd6d5a9a7efdbfa273f8d616c7/alembic-1.13.1-py3-none-any.whl.metadata\n",
      "  Downloading alembic-1.13.1-py3-none-any.whl.metadata (7.4 kB)\n",
      "Collecting colorlog (from optuna)\n",
      "  Obtaining dependency information for colorlog from https://files.pythonhosted.org/packages/95/df/520663eb7f7a329f7c585834b754bcc3cbcc03957d85fcbba4a2a723ad9d/colorlog-6.8.0-py3-none-any.whl.metadata\n",
      "  Downloading colorlog-6.8.0-py3-none-any.whl.metadata (10 kB)\n",
      "Requirement already satisfied: numpy in c:\\programdata\\anaconda3\\lib\\site-packages (from optuna) (1.26.2)\n",
      "Requirement already satisfied: packaging>=20.0 in c:\\programdata\\anaconda3\\lib\\site-packages (from optuna) (21.3)\n",
      "Requirement already satisfied: sqlalchemy>=1.3.0 in c:\\programdata\\anaconda3\\lib\\site-packages (from optuna) (1.4.39)\n",
      "Requirement already satisfied: tqdm in c:\\programdata\\anaconda3\\lib\\site-packages (from optuna) (4.64.1)\n",
      "Requirement already satisfied: PyYAML in c:\\programdata\\anaconda3\\lib\\site-packages (from optuna) (6.0)\n",
      "Collecting Mako (from alembic>=1.5.0->optuna)\n",
      "  Obtaining dependency information for Mako from https://files.pythonhosted.org/packages/24/3b/11fe92d68c6a42468ddab0cf03f454419b0788fff4e91ba46b8bebafeffd/Mako-1.3.0-py3-none-any.whl.metadata\n",
      "  Downloading Mako-1.3.0-py3-none-any.whl.metadata (2.9 kB)\n",
      "Requirement already satisfied: typing-extensions>=4 in c:\\programdata\\anaconda3\\lib\\site-packages (from alembic>=1.5.0->optuna) (4.3.0)\n",
      "Requirement already satisfied: pyparsing!=3.0.5,>=2.0.2 in c:\\programdata\\anaconda3\\lib\\site-packages (from packaging>=20.0->optuna) (3.0.9)\n",
      "Requirement already satisfied: greenlet!=0.4.17 in c:\\programdata\\anaconda3\\lib\\site-packages (from sqlalchemy>=1.3.0->optuna) (1.1.1)\n",
      "Requirement already satisfied: colorama in c:\\programdata\\anaconda3\\lib\\site-packages (from colorlog->optuna) (0.4.5)\n",
      "Requirement already satisfied: MarkupSafe>=0.9.2 in c:\\programdata\\anaconda3\\lib\\site-packages (from Mako->alembic>=1.5.0->optuna) (2.0.1)\n",
      "Downloading optuna-3.5.0-py3-none-any.whl (413 kB)\n",
      "   ---------------------------------------- 413.4/413.4 kB 1.1 MB/s eta 0:00:00\n",
      "Downloading alembic-1.13.1-py3-none-any.whl (233 kB)\n",
      "   ---------------------------------------- 233.4/233.4 kB 2.4 MB/s eta 0:00:00\n",
      "Downloading colorlog-6.8.0-py3-none-any.whl (11 kB)\n",
      "Downloading Mako-1.3.0-py3-none-any.whl (78 kB)\n",
      "   ---------------------------------------- 78.6/78.6 kB 97.2 kB/s eta 0:00:00\n",
      "Installing collected packages: Mako, colorlog, alembic, optuna\n",
      "Successfully installed Mako-1.3.0 alembic-1.13.1 colorlog-6.8.0 optuna-3.5.0\n"
     ]
    },
    {
     "name": "stderr",
     "output_type": "stream",
     "text": [
      "\n",
      "[notice] A new release of pip is available: 23.2.1 -> 23.3.2\n",
      "[notice] To update, run: python.exe -m pip install --upgrade pip\n"
     ]
    }
   ],
   "source": [
    "!pip install optuna"
   ]
  },
  {
   "cell_type": "code",
   "execution_count": 10,
   "id": "b318057e",
   "metadata": {},
   "outputs": [],
   "source": [
    "import os\n",
    "import pandas as pd\n",
    "import numpy as np\n",
    "import seaborn as sns\n",
    "import datetime\n",
    "import matplotlib.pyplot as plt\n",
    "import pickle\n",
    "import json\n",
    "import optuna\n",
    "from sklearn.ensemble import RandomForestRegressor, RandomForestClassifier\n",
    "from sklearn.model_selection import train_test_split\n",
    "from sklearn.preprocessing import StandardScaler\n",
    "from sklearn.decomposition import PCA, KernelPCA\n",
    "from sklearn.feature_selection import SelectKBest, chi2\n",
    "from sklearn.model_selection import cross_val_score"
   ]
  },
  {
   "cell_type": "code",
   "execution_count": 11,
   "id": "6b7b9e55",
   "metadata": {},
   "outputs": [
    {
     "data": {
      "text/html": [
       "<div>\n",
       "<style scoped>\n",
       "    .dataframe tbody tr th:only-of-type {\n",
       "        vertical-align: middle;\n",
       "    }\n",
       "\n",
       "    .dataframe tbody tr th {\n",
       "        vertical-align: top;\n",
       "    }\n",
       "\n",
       "    .dataframe thead th {\n",
       "        text-align: right;\n",
       "    }\n",
       "</style>\n",
       "<table border=\"1\" class=\"dataframe\">\n",
       "  <thead>\n",
       "    <tr style=\"text-align: right;\">\n",
       "      <th></th>\n",
       "      <th>Id</th>\n",
       "      <th>Open Date</th>\n",
       "      <th>City</th>\n",
       "      <th>City Group</th>\n",
       "      <th>Type</th>\n",
       "      <th>P1</th>\n",
       "      <th>P2</th>\n",
       "      <th>P3</th>\n",
       "      <th>P4</th>\n",
       "      <th>P5</th>\n",
       "      <th>...</th>\n",
       "      <th>P29</th>\n",
       "      <th>P30</th>\n",
       "      <th>P31</th>\n",
       "      <th>P32</th>\n",
       "      <th>P33</th>\n",
       "      <th>P34</th>\n",
       "      <th>P35</th>\n",
       "      <th>P36</th>\n",
       "      <th>P37</th>\n",
       "      <th>revenue</th>\n",
       "    </tr>\n",
       "  </thead>\n",
       "  <tbody>\n",
       "    <tr>\n",
       "      <th>0</th>\n",
       "      <td>0</td>\n",
       "      <td>07/17/1999</td>\n",
       "      <td>İstanbul</td>\n",
       "      <td>Big Cities</td>\n",
       "      <td>IL</td>\n",
       "      <td>4</td>\n",
       "      <td>5.0</td>\n",
       "      <td>4.0</td>\n",
       "      <td>4.0</td>\n",
       "      <td>2</td>\n",
       "      <td>...</td>\n",
       "      <td>3.0</td>\n",
       "      <td>5</td>\n",
       "      <td>3</td>\n",
       "      <td>4</td>\n",
       "      <td>5</td>\n",
       "      <td>5</td>\n",
       "      <td>4</td>\n",
       "      <td>3</td>\n",
       "      <td>4</td>\n",
       "      <td>5653753.0</td>\n",
       "    </tr>\n",
       "    <tr>\n",
       "      <th>1</th>\n",
       "      <td>1</td>\n",
       "      <td>02/14/2008</td>\n",
       "      <td>Ankara</td>\n",
       "      <td>Big Cities</td>\n",
       "      <td>FC</td>\n",
       "      <td>4</td>\n",
       "      <td>5.0</td>\n",
       "      <td>4.0</td>\n",
       "      <td>4.0</td>\n",
       "      <td>1</td>\n",
       "      <td>...</td>\n",
       "      <td>3.0</td>\n",
       "      <td>0</td>\n",
       "      <td>0</td>\n",
       "      <td>0</td>\n",
       "      <td>0</td>\n",
       "      <td>0</td>\n",
       "      <td>0</td>\n",
       "      <td>0</td>\n",
       "      <td>0</td>\n",
       "      <td>6923131.0</td>\n",
       "    </tr>\n",
       "    <tr>\n",
       "      <th>2</th>\n",
       "      <td>2</td>\n",
       "      <td>03/09/2013</td>\n",
       "      <td>Diyarbakır</td>\n",
       "      <td>Other</td>\n",
       "      <td>IL</td>\n",
       "      <td>2</td>\n",
       "      <td>4.0</td>\n",
       "      <td>2.0</td>\n",
       "      <td>5.0</td>\n",
       "      <td>2</td>\n",
       "      <td>...</td>\n",
       "      <td>3.0</td>\n",
       "      <td>0</td>\n",
       "      <td>0</td>\n",
       "      <td>0</td>\n",
       "      <td>0</td>\n",
       "      <td>0</td>\n",
       "      <td>0</td>\n",
       "      <td>0</td>\n",
       "      <td>0</td>\n",
       "      <td>2055379.0</td>\n",
       "    </tr>\n",
       "    <tr>\n",
       "      <th>3</th>\n",
       "      <td>3</td>\n",
       "      <td>02/02/2012</td>\n",
       "      <td>Tokat</td>\n",
       "      <td>Other</td>\n",
       "      <td>IL</td>\n",
       "      <td>6</td>\n",
       "      <td>4.5</td>\n",
       "      <td>6.0</td>\n",
       "      <td>6.0</td>\n",
       "      <td>4</td>\n",
       "      <td>...</td>\n",
       "      <td>7.5</td>\n",
       "      <td>25</td>\n",
       "      <td>12</td>\n",
       "      <td>10</td>\n",
       "      <td>6</td>\n",
       "      <td>18</td>\n",
       "      <td>12</td>\n",
       "      <td>12</td>\n",
       "      <td>6</td>\n",
       "      <td>2675511.0</td>\n",
       "    </tr>\n",
       "    <tr>\n",
       "      <th>4</th>\n",
       "      <td>4</td>\n",
       "      <td>05/09/2009</td>\n",
       "      <td>Gaziantep</td>\n",
       "      <td>Other</td>\n",
       "      <td>IL</td>\n",
       "      <td>3</td>\n",
       "      <td>4.0</td>\n",
       "      <td>3.0</td>\n",
       "      <td>4.0</td>\n",
       "      <td>2</td>\n",
       "      <td>...</td>\n",
       "      <td>3.0</td>\n",
       "      <td>5</td>\n",
       "      <td>1</td>\n",
       "      <td>3</td>\n",
       "      <td>2</td>\n",
       "      <td>3</td>\n",
       "      <td>4</td>\n",
       "      <td>3</td>\n",
       "      <td>3</td>\n",
       "      <td>4316715.0</td>\n",
       "    </tr>\n",
       "  </tbody>\n",
       "</table>\n",
       "<p>5 rows × 43 columns</p>\n",
       "</div>"
      ],
      "text/plain": [
       "   Id   Open Date        City  City Group Type  P1   P2   P3   P4  P5  ...  \\\n",
       "0   0  07/17/1999    İstanbul  Big Cities   IL   4  5.0  4.0  4.0   2  ...   \n",
       "1   1  02/14/2008      Ankara  Big Cities   FC   4  5.0  4.0  4.0   1  ...   \n",
       "2   2  03/09/2013  Diyarbakır       Other   IL   2  4.0  2.0  5.0   2  ...   \n",
       "3   3  02/02/2012       Tokat       Other   IL   6  4.5  6.0  6.0   4  ...   \n",
       "4   4  05/09/2009   Gaziantep       Other   IL   3  4.0  3.0  4.0   2  ...   \n",
       "\n",
       "   P29  P30  P31  P32  P33  P34  P35  P36  P37    revenue  \n",
       "0  3.0    5    3    4    5    5    4    3    4  5653753.0  \n",
       "1  3.0    0    0    0    0    0    0    0    0  6923131.0  \n",
       "2  3.0    0    0    0    0    0    0    0    0  2055379.0  \n",
       "3  7.5   25   12   10    6   18   12   12    6  2675511.0  \n",
       "4  3.0    5    1    3    2    3    4    3    3  4316715.0  \n",
       "\n",
       "[5 rows x 43 columns]"
      ]
     },
     "execution_count": 11,
     "metadata": {},
     "output_type": "execute_result"
    }
   ],
   "source": [
    "df = pd.read_csv(\"rr_train.csv\")\n",
    "df.head()"
   ]
  },
  {
   "cell_type": "code",
   "execution_count": 13,
   "id": "da87dff5",
   "metadata": {},
   "outputs": [],
   "source": [
    "df['Open Date'] = pd.to_datetime(df['Open Date'], format='%m/%d/%Y')"
   ]
  },
  {
   "cell_type": "code",
   "execution_count": 14,
   "id": "8484c7c5",
   "metadata": {},
   "outputs": [],
   "source": [
    "today = pd.Timestamp.now().to_period('D')\n",
    "last_date = pd.to_datetime('03/29/2021', format='%m/%d/%Y')\n",
    "df['num_open_days'] = (last_date - df['Open Date']).dt.days"
   ]
  },
  {
   "cell_type": "code",
   "execution_count": 15,
   "id": "028895e8",
   "metadata": {},
   "outputs": [],
   "source": [
    "df = df.drop('Open Date', axis=1)"
   ]
  },
  {
   "cell_type": "code",
   "execution_count": 16,
   "id": "9d6f5bea",
   "metadata": {},
   "outputs": [
    {
     "data": {
      "text/plain": [
       "<AxesSubplot:xlabel='City Group', ylabel='revenue'>"
      ]
     },
     "execution_count": 16,
     "metadata": {},
     "output_type": "execute_result"
    },
    {
     "data": {
      "image/png": "[encoded data removed]",
      "text/plain": [
       "<Figure size 640x480 with 1 Axes>"
      ]
     },
     "metadata": {},
     "output_type": "display_data"
    }
   ],
   "source": [
    "revenue_percentage = df[[\"City Group\", \"revenue\"]].groupby(['City Group'], as_index=False).mean()\n",
    "sns.barplot(x='City Group', y='revenue', data=revenue_percentage)"
   ]
  },
  {
   "cell_type": "code",
   "execution_count": 17,
   "id": "dee20969",
   "metadata": {},
   "outputs": [
    {
     "name": "stdout",
     "output_type": "stream",
     "text": [
      "              City       revenue\n",
      "31        İstanbul  5.577812e+06\n",
      "12          Elazığ  5.525735e+06\n",
      "11          Edirne  5.444227e+06\n",
      "32           İzmir  5.287571e+06\n",
      "29         Trabzon  5.284100e+06\n",
      "1   Afyonkarahisar  4.952497e+06\n",
      "0            Adana  4.894944e+06\n",
      "6        Balıkesir  4.758476e+06\n",
      "18         Kayseri  4.567576e+06\n",
      "14       Gaziantep  4.316715e+06\n",
      "7             Bolu  4.263629e+06\n",
      "23           Muğla  4.111129e+06\n",
      "8            Bursa  4.092295e+06\n",
      "15         Isparta  4.015749e+06\n",
      "13       Eskişehir  3.957953e+06\n",
      "16         Karabük  3.807496e+06\n",
      "19         Kocaeli  3.745135e+06\n",
      "10      Diyarbakır  3.735351e+06\n",
      "4          Antalya  3.481448e+06\n",
      "5            Aydın  3.429798e+06\n",
      "24        Osmaniye  3.376145e+06\n",
      "25         Sakarya  3.328853e+06\n",
      "27        Tekirdağ  3.312471e+06\n",
      "3           Ankara  3.275406e+06\n",
      "17       Kastamonu  3.273041e+06\n",
      "33       Şanlıurfa  3.261924e+06\n",
      "26          Samsun  3.247870e+06\n",
      "21         Kütahya  2.993069e+06\n",
      "2           Amasya  2.954086e+06\n",
      "28           Tokat  2.675511e+06\n",
      "20           Konya  2.667256e+06\n",
      "9          Denizli  2.344689e+06\n",
      "30            Uşak  1.763231e+06\n",
      "22      Kırklareli  1.619683e+06\n"
     ]
    }
   ],
   "source": [
    "revenue_percentage = df[[\"City\", \"revenue\"]].groupby([\"City\"], as_index=False).mean()\n",
    "sorted_revenue = revenue_percentage.sort_values([\"revenue\"], ascending=False)\n",
    "print(sorted_revenue)"
   ]
  },
  {
   "cell_type": "code",
   "execution_count": 18,
   "id": "4a8d8b9b",
   "metadata": {},
   "outputs": [],
   "source": [
    "df = df.drop(['Id', 'Type', 'City'], axis=1)"
   ]
  },
  {
   "cell_type": "code",
   "execution_count": 19,
   "id": "51a6d646",
   "metadata": {},
   "outputs": [],
   "source": [
    "revenue = df['revenue']\n",
    "df = df.drop('revenue', axis=1)"
   ]
  },
  {
   "cell_type": "code",
   "execution_count": 20,
   "id": "b475cc41",
   "metadata": {},
   "outputs": [],
   "source": [
    "df = pd.get_dummies(df)"
   ]
  },
  {
   "cell_type": "code",
   "execution_count": 21,
   "id": "0766f7fc",
   "metadata": {},
   "outputs": [],
   "source": [
    "X_train, X_test, y_train, y_test = train_test_split(df, revenue, test_size=0.25, random_state=42)"
   ]
  },
  {
   "cell_type": "code",
   "execution_count": 22,
   "id": "06ba9c39",
   "metadata": {},
   "outputs": [],
   "source": [
    "scaler = StandardScaler()\n",
    "X_train = scaler.fit_transform(X_train)\n",
    "X_test = scaler.transform(X_test)"
   ]
  },
  {
   "cell_type": "code",
   "execution_count": 23,
   "id": "71c983dd",
   "metadata": {},
   "outputs": [],
   "source": [
    "def objective(trial):\n",
    "    n_estimators = trial.suggest_int('n_estimators', 10, 1000)\n",
    "    max_features = trial.suggest_int('max_features', 3, 7)\n",
    "    \n",
    "    rf = RandomForestRegressor(n_estimators=n_estimators, max_features=max_features, random_state=42)\n",
    "    scores = cross_val_score(rf, X_train, y_train, cv=3, n_jobs=8, scoring='r2')\n",
    "    return -scores.mean()"
   ]
  },
  {
   "cell_type": "code",
   "execution_count": 24,
   "id": "39fbef2e",
   "metadata": {},
   "outputs": [
    {
     "name": "stderr",
     "output_type": "stream",
     "text": [
      "[I 2023-12-24 10:51:03,885] A new study created in memory with name: no-name-d1c704cc-9123-4365-a2bd-d3bcc44c40e2\n",
      "[I 2023-12-24 10:52:10,085] Trial 0 finished with value: 0.17132917233249398 and parameters: {'n_estimators': 511, 'max_features': 6}. Best is trial 0 with value: 0.17132917233249398.\n",
      "[I 2023-12-24 10:52:42,904] Trial 1 finished with value: 0.10171472737889982 and parameters: {'n_estimators': 803, 'max_features': 3}. Best is trial 0 with value: 0.17132917233249398.\n",
      "[I 2023-12-24 10:53:10,567] Trial 2 finished with value: 0.1114135573003655 and parameters: {'n_estimators': 763, 'max_features': 4}. Best is trial 0 with value: 0.17132917233249398.\n",
      "[I 2023-12-24 10:53:17,909] Trial 3 finished with value: 0.12216410543725457 and parameters: {'n_estimators': 908, 'max_features': 7}. Best is trial 0 with value: 0.17132917233249398.\n",
      "[I 2023-12-24 10:53:23,958] Trial 4 finished with value: 0.10296733954344994 and parameters: {'n_estimators': 852, 'max_features': 3}. Best is trial 0 with value: 0.17132917233249398.\n",
      "[I 2023-12-24 10:53:30,039] Trial 5 finished with value: 0.11131239420257617 and parameters: {'n_estimators': 770, 'max_features': 5}. Best is trial 0 with value: 0.17132917233249398.\n",
      "[I 2023-12-24 10:53:34,007] Trial 6 finished with value: 0.10052866743416584 and parameters: {'n_estimators': 566, 'max_features': 3}. Best is trial 0 with value: 0.17132917233249398.\n",
      "[I 2023-12-24 10:53:39,248] Trial 7 finished with value: 0.11847867691281389 and parameters: {'n_estimators': 708, 'max_features': 7}. Best is trial 0 with value: 0.17132917233249398.\n",
      "[I 2023-12-24 10:53:40,866] Trial 8 finished with value: 0.12220195348264862 and parameters: {'n_estimators': 220, 'max_features': 4}. Best is trial 0 with value: 0.17132917233249398.\n",
      "[I 2023-12-24 10:53:44,934] Trial 9 finished with value: 0.16742486649877597 and parameters: {'n_estimators': 470, 'max_features': 6}. Best is trial 0 with value: 0.17132917233249398.\n",
      "[I 2023-12-24 10:53:45,604] Trial 10 finished with value: 0.25417323742301257 and parameters: {'n_estimators': 20, 'max_features': 6}. Best is trial 10 with value: 0.25417323742301257.\n",
      "[I 2023-12-24 10:53:45,855] Trial 11 finished with value: 0.24997919904549046 and parameters: {'n_estimators': 17, 'max_features': 6}. Best is trial 10 with value: 0.25417323742301257.\n",
      "[I 2023-12-24 10:53:46,065] Trial 12 finished with value: 0.35475110531639187 and parameters: {'n_estimators': 10, 'max_features': 6}. Best is trial 12 with value: 0.35475110531639187.\n",
      "[I 2023-12-24 10:53:46,354] Trial 13 finished with value: 0.1491930833341876 and parameters: {'n_estimators': 19, 'max_features': 5}. Best is trial 12 with value: 0.35475110531639187.\n",
      "[I 2023-12-24 10:53:48,467] Trial 14 finished with value: 0.1606068705163153 and parameters: {'n_estimators': 217, 'max_features': 6}. Best is trial 12 with value: 0.35475110531639187.\n",
      "[I 2023-12-24 10:53:50,281] Trial 15 finished with value: 0.15177410621195112 and parameters: {'n_estimators': 208, 'max_features': 7}. Best is trial 12 with value: 0.35475110531639187.\n",
      "[I 2023-12-24 10:53:52,874] Trial 16 finished with value: 0.14823787920413412 and parameters: {'n_estimators': 346, 'max_features': 5}. Best is trial 12 with value: 0.35475110531639187.\n",
      "[I 2023-12-24 10:53:53,872] Trial 17 finished with value: 0.18968807538756768 and parameters: {'n_estimators': 125, 'max_features': 6}. Best is trial 12 with value: 0.35475110531639187.\n",
      "[I 2023-12-24 10:53:56,435] Trial 18 finished with value: 0.14707388017753717 and parameters: {'n_estimators': 357, 'max_features': 5}. Best is trial 12 with value: 0.35475110531639187.\n",
      "[I 2023-12-24 10:53:57,138] Trial 19 finished with value: 0.2007594170436451 and parameters: {'n_estimators': 86, 'max_features': 7}. Best is trial 12 with value: 0.35475110531639187.\n",
      "[I 2023-12-24 10:53:59,684] Trial 20 finished with value: 0.11753984625368152 and parameters: {'n_estimators': 342, 'max_features': 4}. Best is trial 12 with value: 0.35475110531639187.\n",
      "[I 2023-12-24 10:54:00,372] Trial 21 finished with value: 0.1811442495127463 and parameters: {'n_estimators': 84, 'max_features': 6}. Best is trial 12 with value: 0.35475110531639187.\n",
      "[I 2023-12-24 10:54:00,592] Trial 22 finished with value: 0.25365285550155814 and parameters: {'n_estimators': 19, 'max_features': 6}. Best is trial 12 with value: 0.35475110531639187.\n",
      "[I 2023-12-24 10:54:01,634] Trial 23 finished with value: 0.18814254621348028 and parameters: {'n_estimators': 136, 'max_features': 6}. Best is trial 12 with value: 0.35475110531639187.\n",
      "[I 2023-12-24 10:54:01,856] Trial 24 finished with value: 0.23520924162622595 and parameters: {'n_estimators': 19, 'max_features': 7}. Best is trial 12 with value: 0.35475110531639187.\n",
      "[I 2023-12-24 10:54:03,852] Trial 25 finished with value: 0.1513677702512528 and parameters: {'n_estimators': 279, 'max_features': 5}. Best is trial 12 with value: 0.35475110531639187.\n",
      "[I 2023-12-24 10:54:05,051] Trial 26 finished with value: 0.1615862372641578 and parameters: {'n_estimators': 156, 'max_features': 6}. Best is trial 12 with value: 0.35475110531639187.\n",
      "[I 2023-12-24 10:54:12,620] Trial 27 finished with value: 0.13620985263156646 and parameters: {'n_estimators': 991, 'max_features': 6}. Best is trial 12 with value: 0.35475110531639187.\n",
      "[I 2023-12-24 10:54:13,500] Trial 28 finished with value: 0.20794553048779785 and parameters: {'n_estimators': 87, 'max_features': 7}. Best is trial 12 with value: 0.35475110531639187.\n",
      "[I 2023-12-24 10:54:16,969] Trial 29 finished with value: 0.16926257926808852 and parameters: {'n_estimators': 472, 'max_features': 6}. Best is trial 12 with value: 0.35475110531639187.\n",
      "[I 2023-12-24 10:54:21,201] Trial 30 finished with value: 0.11100084466142912 and parameters: {'n_estimators': 575, 'max_features': 5}. Best is trial 12 with value: 0.35475110531639187.\n",
      "[I 2023-12-24 10:54:21,453] Trial 31 finished with value: 0.27698763864586434 and parameters: {'n_estimators': 15, 'max_features': 6}. Best is trial 12 with value: 0.35475110531639187.\n",
      "[I 2023-12-24 10:54:22,037] Trial 32 finished with value: 0.17933737522549717 and parameters: {'n_estimators': 68, 'max_features': 6}. Best is trial 12 with value: 0.35475110531639187.\n",
      "[I 2023-12-24 10:54:23,311] Trial 33 finished with value: 0.16030786195504987 and parameters: {'n_estimators': 165, 'max_features': 5}. Best is trial 12 with value: 0.35475110531639187.\n",
      "[I 2023-12-24 10:54:25,602] Trial 34 finished with value: 0.16713658282427968 and parameters: {'n_estimators': 257, 'max_features': 6}. Best is trial 12 with value: 0.35475110531639187.\n",
      "[I 2023-12-24 10:54:25,869] Trial 35 finished with value: 0.24238903217530097 and parameters: {'n_estimators': 21, 'max_features': 7}. Best is trial 12 with value: 0.35475110531639187.\n",
      "[I 2023-12-24 10:54:26,504] Trial 36 finished with value: 0.16064438986336402 and parameters: {'n_estimators': 79, 'max_features': 6}. Best is trial 12 with value: 0.35475110531639187.\n",
      "[I 2023-12-24 10:54:27,904] Trial 37 finished with value: 0.15724471782538005 and parameters: {'n_estimators': 167, 'max_features': 5}. Best is trial 12 with value: 0.35475110531639187.\n",
      "[I 2023-12-24 10:54:30,192] Trial 38 finished with value: 0.15279543376152907 and parameters: {'n_estimators': 288, 'max_features': 7}. Best is trial 12 with value: 0.35475110531639187.\n",
      "[I 2023-12-24 10:54:35,220] Trial 39 finished with value: 0.13870164366875828 and parameters: {'n_estimators': 676, 'max_features': 6}. Best is trial 12 with value: 0.35475110531639187.\n",
      "[I 2023-12-24 10:54:36,167] Trial 40 finished with value: 0.0952840586698187 and parameters: {'n_estimators': 111, 'max_features': 4}. Best is trial 12 with value: 0.35475110531639187.\n",
      "[I 2023-12-24 10:54:36,413] Trial 41 finished with value: 0.23154050148265282 and parameters: {'n_estimators': 18, 'max_features': 6}. Best is trial 12 with value: 0.35475110531639187.\n",
      "[I 2023-12-24 10:54:36,802] Trial 42 finished with value: 0.18722680318610882 and parameters: {'n_estimators': 44, 'max_features': 6}. Best is trial 12 with value: 0.35475110531639187.\n",
      "[I 2023-12-24 10:54:37,016] Trial 43 finished with value: 0.3177501256107455 and parameters: {'n_estimators': 12, 'max_features': 6}. Best is trial 12 with value: 0.35475110531639187.\n",
      "[I 2023-12-24 10:54:38,448] Trial 44 finished with value: 0.1751134786057912 and parameters: {'n_estimators': 193, 'max_features': 6}. Best is trial 12 with value: 0.35475110531639187.\n",
      "[I 2023-12-24 10:54:38,946] Trial 45 finished with value: 0.1957061386826526 and parameters: {'n_estimators': 59, 'max_features': 7}. Best is trial 12 with value: 0.35475110531639187.\n",
      "[I 2023-12-24 10:54:40,226] Trial 46 finished with value: 0.18108932095290334 and parameters: {'n_estimators': 115, 'max_features': 6}. Best is trial 12 with value: 0.35475110531639187.\n",
      "[I 2023-12-24 10:54:40,746] Trial 47 finished with value: 0.09075503803434852 and parameters: {'n_estimators': 54, 'max_features': 3}. Best is trial 12 with value: 0.35475110531639187.\n",
      "[I 2023-12-24 10:54:41,752] Trial 48 finished with value: 0.13353747449706732 and parameters: {'n_estimators': 125, 'max_features': 5}. Best is trial 12 with value: 0.35475110531639187.\n",
      "[I 2023-12-24 10:54:43,660] Trial 49 finished with value: 0.1586555048536892 and parameters: {'n_estimators': 245, 'max_features': 5}. Best is trial 12 with value: 0.35475110531639187.\n",
      "[I 2023-12-24 10:54:46,794] Trial 50 finished with value: 0.18731597795448443 and parameters: {'n_estimators': 394, 'max_features': 6}. Best is trial 12 with value: 0.35475110531639187.\n",
      "[I 2023-12-24 10:54:46,969] Trial 51 finished with value: 0.36881230512166413 and parameters: {'n_estimators': 11, 'max_features': 6}. Best is trial 51 with value: 0.36881230512166413.\n",
      "[I 2023-12-24 10:54:47,165] Trial 52 finished with value: 0.36881230512166413 and parameters: {'n_estimators': 11, 'max_features': 6}. Best is trial 51 with value: 0.36881230512166413.\n",
      "[I 2023-12-24 10:54:47,695] Trial 53 finished with value: 0.18597969858840976 and parameters: {'n_estimators': 54, 'max_features': 7}. Best is trial 51 with value: 0.36881230512166413.\n",
      "[I 2023-12-24 10:54:48,501] Trial 54 finished with value: 0.19713315042445748 and parameters: {'n_estimators': 101, 'max_features': 6}. Best is trial 51 with value: 0.36881230512166413.\n",
      "[I 2023-12-24 10:54:48,691] Trial 55 finished with value: 0.31689791790167215 and parameters: {'n_estimators': 14, 'max_features': 6}. Best is trial 51 with value: 0.36881230512166413.\n",
      "[I 2023-12-24 10:54:50,061] Trial 56 finished with value: 0.16293029879748802 and parameters: {'n_estimators': 183, 'max_features': 6}. Best is trial 51 with value: 0.36881230512166413.\n",
      "[I 2023-12-24 10:54:50,533] Trial 57 finished with value: 0.1719609858001232 and parameters: {'n_estimators': 52, 'max_features': 6}. Best is trial 51 with value: 0.36881230512166413.\n",
      "[I 2023-12-24 10:54:51,979] Trial 58 finished with value: 0.1845441894743558 and parameters: {'n_estimators': 133, 'max_features': 7}. Best is trial 51 with value: 0.36881230512166413.\n",
      "[I 2023-12-24 10:54:52,213] Trial 59 finished with value: 0.1204739558330555 and parameters: {'n_estimators': 17, 'max_features': 5}. Best is trial 51 with value: 0.36881230512166413.\n",
      "[I 2023-12-24 10:54:52,977] Trial 60 finished with value: 0.19095256965140175 and parameters: {'n_estimators': 96, 'max_features': 6}. Best is trial 51 with value: 0.36881230512166413.\n",
      "[I 2023-12-24 10:54:53,436] Trial 61 finished with value: 0.19599618295818313 and parameters: {'n_estimators': 46, 'max_features': 6}. Best is trial 51 with value: 0.36881230512166413.\n",
      "[I 2023-12-24 10:54:53,626] Trial 62 finished with value: 0.36881230512166413 and parameters: {'n_estimators': 11, 'max_features': 6}. Best is trial 51 with value: 0.36881230512166413.\n",
      "[I 2023-12-24 10:54:53,828] Trial 63 finished with value: 0.31689791790167215 and parameters: {'n_estimators': 14, 'max_features': 6}. Best is trial 51 with value: 0.36881230512166413.\n",
      "[I 2023-12-24 10:54:59,882] Trial 64 finished with value: 0.13820983904632891 and parameters: {'n_estimators': 825, 'max_features': 6}. Best is trial 51 with value: 0.36881230512166413.\n",
      "[I 2023-12-24 10:55:01,082] Trial 65 finished with value: 0.16143557247754903 and parameters: {'n_estimators': 153, 'max_features': 6}. Best is trial 51 with value: 0.36881230512166413.\n",
      "[I 2023-12-24 10:55:01,832] Trial 66 finished with value: 0.17223413161436588 and parameters: {'n_estimators': 82, 'max_features': 6}. Best is trial 51 with value: 0.36881230512166413.\n",
      "[I 2023-12-24 10:55:02,001] Trial 67 finished with value: 0.36881230512166413 and parameters: {'n_estimators': 11, 'max_features': 6}. Best is trial 51 with value: 0.36881230512166413.\n",
      "[I 2023-12-24 10:55:02,501] Trial 68 finished with value: 0.1740502959333262 and parameters: {'n_estimators': 53, 'max_features': 7}. Best is trial 51 with value: 0.36881230512166413.\n",
      "[I 2023-12-24 10:55:06,631] Trial 69 finished with value: 0.10894228775648518 and parameters: {'n_estimators': 585, 'max_features': 5}. Best is trial 51 with value: 0.36881230512166413.\n",
      "[I 2023-12-24 10:55:07,691] Trial 70 finished with value: 0.18811725228753262 and parameters: {'n_estimators': 138, 'max_features': 6}. Best is trial 51 with value: 0.36881230512166413.\n",
      "[I 2023-12-24 10:55:07,878] Trial 71 finished with value: 0.3177501256107455 and parameters: {'n_estimators': 12, 'max_features': 6}. Best is trial 51 with value: 0.36881230512166413.\n",
      "[I 2023-12-24 10:55:08,513] Trial 72 finished with value: 0.16064438986336402 and parameters: {'n_estimators': 79, 'max_features': 6}. Best is trial 51 with value: 0.36881230512166413.\n",
      "[I 2023-12-24 10:55:09,148] Trial 73 finished with value: 0.1905332988828242 and parameters: {'n_estimators': 33, 'max_features': 6}. Best is trial 51 with value: 0.36881230512166413.\n",
      "[I 2023-12-24 10:55:10,078] Trial 74 finished with value: 0.2021310215981024 and parameters: {'n_estimators': 103, 'max_features': 6}. Best is trial 51 with value: 0.36881230512166413.\n",
      "[I 2023-12-24 10:55:10,252] Trial 75 finished with value: 0.36881230512166413 and parameters: {'n_estimators': 11, 'max_features': 6}. Best is trial 51 with value: 0.36881230512166413.\n",
      "[I 2023-12-24 10:55:10,808] Trial 76 finished with value: 0.17563241100532892 and parameters: {'n_estimators': 70, 'max_features': 6}. Best is trial 51 with value: 0.36881230512166413.\n",
      "[I 2023-12-24 10:55:11,181] Trial 77 finished with value: 0.17921916927894022 and parameters: {'n_estimators': 42, 'max_features': 6}. Best is trial 51 with value: 0.36881230512166413.\n",
      "[I 2023-12-24 10:55:12,020] Trial 78 finished with value: 0.1273735264338869 and parameters: {'n_estimators': 103, 'max_features': 5}. Best is trial 51 with value: 0.36881230512166413.\n",
      "[I 2023-12-24 10:55:12,217] Trial 79 finished with value: 0.24698989636754398 and parameters: {'n_estimators': 10, 'max_features': 7}. Best is trial 51 with value: 0.36881230512166413.\n",
      "[I 2023-12-24 10:55:12,811] Trial 80 finished with value: 0.18488550881280105 and parameters: {'n_estimators': 72, 'max_features': 6}. Best is trial 51 with value: 0.36881230512166413.\n",
      "[I 2023-12-24 10:55:13,124] Trial 81 finished with value: 0.20347744418555402 and parameters: {'n_estimators': 34, 'max_features': 6}. Best is trial 51 with value: 0.36881230512166413.\n",
      "[I 2023-12-24 10:55:13,485] Trial 82 finished with value: 0.2092007105278237 and parameters: {'n_estimators': 37, 'max_features': 6}. Best is trial 51 with value: 0.36881230512166413.\n",
      "[I 2023-12-24 10:55:13,685] Trial 83 finished with value: 0.35475110531639187 and parameters: {'n_estimators': 10, 'max_features': 6}. Best is trial 51 with value: 0.36881230512166413.\n",
      "[I 2023-12-24 10:55:14,275] Trial 84 finished with value: 0.17563241100532892 and parameters: {'n_estimators': 70, 'max_features': 6}. Best is trial 51 with value: 0.36881230512166413.\n",
      "[I 2023-12-24 10:55:15,223] Trial 85 finished with value: 0.18737036357627543 and parameters: {'n_estimators': 124, 'max_features': 6}. Best is trial 51 with value: 0.36881230512166413.\n",
      "[I 2023-12-24 10:55:15,626] Trial 86 finished with value: 0.1990533313071063 and parameters: {'n_estimators': 40, 'max_features': 6}. Best is trial 51 with value: 0.36881230512166413.\n",
      "[I 2023-12-24 10:55:16,358] Trial 87 finished with value: 0.13036444299522287 and parameters: {'n_estimators': 86, 'max_features': 4}. Best is trial 51 with value: 0.36881230512166413.\n",
      "[I 2023-12-24 10:55:22,761] Trial 88 finished with value: 0.13877277335272167 and parameters: {'n_estimators': 889, 'max_features': 6}. Best is trial 51 with value: 0.36881230512166413.\n",
      "[I 2023-12-24 10:55:22,945] Trial 89 finished with value: 0.36881230512166413 and parameters: {'n_estimators': 11, 'max_features': 6}. Best is trial 51 with value: 0.36881230512166413.\n",
      "[I 2023-12-24 10:55:23,460] Trial 90 finished with value: 0.12340207673723431 and parameters: {'n_estimators': 58, 'max_features': 5}. Best is trial 51 with value: 0.36881230512166413.\n",
      "[I 2023-12-24 10:55:23,801] Trial 91 finished with value: 0.20989348233443314 and parameters: {'n_estimators': 35, 'max_features': 6}. Best is trial 51 with value: 0.36881230512166413.\n",
      "[I 2023-12-24 10:55:23,998] Trial 92 finished with value: 0.3061523439254653 and parameters: {'n_estimators': 13, 'max_features': 6}. Best is trial 51 with value: 0.36881230512166413.\n",
      "[I 2023-12-24 10:55:24,531] Trial 93 finished with value: 0.17878247731901753 and parameters: {'n_estimators': 66, 'max_features': 6}. Best is trial 51 with value: 0.36881230512166413.\n",
      "[I 2023-12-24 10:55:28,683] Trial 94 finished with value: 0.16401377488934019 and parameters: {'n_estimators': 536, 'max_features': 6}. Best is trial 51 with value: 0.36881230512166413.\n",
      "[I 2023-12-24 10:55:30,098] Trial 95 finished with value: 0.2021310215981024 and parameters: {'n_estimators': 103, 'max_features': 6}. Best is trial 51 with value: 0.36881230512166413.\n",
      "[I 2023-12-24 10:55:35,181] Trial 96 finished with value: 0.1387350992543074 and parameters: {'n_estimators': 673, 'max_features': 6}. Best is trial 51 with value: 0.36881230512166413.\n",
      "[I 2023-12-24 10:55:35,352] Trial 97 finished with value: 0.35475110531639187 and parameters: {'n_estimators': 10, 'max_features': 6}. Best is trial 51 with value: 0.36881230512166413.\n",
      "[I 2023-12-24 10:55:36,474] Trial 98 finished with value: 0.18052120254498946 and parameters: {'n_estimators': 144, 'max_features': 6}. Best is trial 51 with value: 0.36881230512166413.\n",
      "[I 2023-12-24 10:55:39,513] Trial 99 finished with value: 0.14974640336968045 and parameters: {'n_estimators': 415, 'max_features': 7}. Best is trial 51 with value: 0.36881230512166413.\n"
     ]
    }
   ],
   "source": [
    "study = optuna.create_study(direction='maximize')\n",
    "study.optimize(objective, n_trials=100)"
   ]
  },
  {
   "cell_type": "code",
   "execution_count": 25,
   "id": "d6afd260",
   "metadata": {},
   "outputs": [],
   "source": [
    "best_params = study.best_params"
   ]
  },
  {
   "cell_type": "code",
   "execution_count": 26,
   "id": "3d6b2575",
   "metadata": {},
   "outputs": [
    {
     "data": {
      "text/plain": [
       "RandomForestRegressor(max_features=6, n_estimators=11, random_state=42)"
      ]
     },
     "execution_count": 26,
     "metadata": {},
     "output_type": "execute_result"
    }
   ],
   "source": [
    "final_rf = RandomForestRegressor(**best_params, random_state=42)\n",
    "final_rf.fit(X_train, y_train)"
   ]
  },
  {
   "cell_type": "code",
   "execution_count": 27,
   "id": "e2180a33",
   "metadata": {},
   "outputs": [
    {
     "name": "stdout",
     "output_type": "stream",
     "text": [
      "Train R-squared: 0.8488532395467836\n",
      "Test R-squared: 0.05084555737733765\n"
     ]
    }
   ],
   "source": [
    "train_score = final_rf.score(X_train, y_train)\n",
    "test_score = final_rf.score(X_test, y_test)\n",
    "print(\"Train R-squared:\", train_score)\n",
    "print(\"Test R-squared:\", test_score)"
   ]
  },
  {
   "cell_type": "code",
   "execution_count": 28,
   "id": "7b626d9c",
   "metadata": {},
   "outputs": [
    {
     "name": "stderr",
     "output_type": "stream",
     "text": [
      "C:\\Users\\Administrator\\AppData\\Local\\Temp\\ipykernel_10200\\3007069422.py:1: UserWarning: \n",
      "\n",
      "`distplot` is a deprecated function and will be removed in seaborn v0.14.0.\n",
      "\n",
      "Please adapt your code to use either `displot` (a figure-level function with\n",
      "similar flexibility) or `histplot` (an axes-level function for histograms).\n",
      "\n",
      "For a guide to updating your code to use the new functions, please see\n",
      "https://gist.github.com/mwaskom/de44147ed2974457ad6372750bbe5751\n",
      "\n",
      "  sns.distplot(np.log(revenue))\n"
     ]
    },
    {
     "data": {
      "text/plain": [
       "<AxesSubplot:xlabel='revenue', ylabel='Density'>"
      ]
     },
     "execution_count": 28,
     "metadata": {},
     "output_type": "execute_result"
    },
    {
     "data": {
      "image/png": "[encoded data removed]",
      "text/plain": [
       "<Figure size 640x480 with 1 Axes>"
      ]
     },
     "metadata": {},
     "output_type": "display_data"
    }
   ],
   "source": [
    "sns.distplot(np.log(revenue))"
   ]
  },
  {
   "cell_type": "code",
   "execution_count": 29,
   "id": "1439120a",
   "metadata": {},
   "outputs": [
    {
     "name": "stdout",
     "output_type": "stream",
     "text": [
      "[0.50853205 0.1615744 ]\n"
     ]
    }
   ],
   "source": [
    "pca = PCA(n_components=2, svd_solver='full')\n",
    "X_train_pca = pca.fit_transform(X_train)\n",
    "X_test_pca = pca.transform(X_test)\n",
    "print(pca.explained_variance_ratio_)"
   ]
  },
  {
   "cell_type": "code",
   "execution_count": 30,
   "id": "e82cfa0b",
   "metadata": {},
   "outputs": [],
   "source": [
    "kpca = KernelPCA(kernel=\"rbf\", gamma=1)\n",
    "X_train_kpca = kpca.fit_transform(X_train)\n",
    "X_test_kpca = kpca.transform(X_test)"
   ]
  },
  {
   "cell_type": "code",
   "execution_count": 31,
   "id": "1794bf18",
   "metadata": {},
   "outputs": [
    {
     "data": {
      "text/plain": [
       "Text(0.5, 0, 'After RBF KernelPCA')"
      ]
     },
     "execution_count": 31,
     "metadata": {},
     "output_type": "execute_result"
    },
    {
     "data": {
      "image/png": "[encoded data removed]",
      "text/plain": [
       "<Figure size 1000x500 with 2 Axes>"
      ]
     },
     "metadata": {},
     "output_type": "display_data"
    }
   ],
   "source": [
    "# Visualize the data before and after RBF KernelPCA\n",
    "fig, ax = plt.subplots(nrows=1, ncols=2, figsize=(10, 5))\n",
    "ax[0].scatter(X_train_pca[:, 0], X_train_pca[:, 1], color='red', marker='o')\n",
    "ax[1].scatter(X_train_kpca[:, 0], X_train_kpca[:, 1])\n",
    "ax[0].set_xlabel('Before RBF KernelPCA')\n",
    "ax[1].set_xlabel('After RBF KernelPCA')\n"
   ]
  },
  {
   "cell_type": "code",
   "execution_count": 32,
   "id": "22a69a1b",
   "metadata": {},
   "outputs": [],
   "source": [
    "def pca_objective(trial):\n",
    "    n_components = trial.suggest_int('n_components', 1, min(X_train.shape[1], X_train.shape[0]))\n",
    "    \n",
    "    pca = PCA(n_components=n_components, svd_solver='full')\n",
    "    X_train_pca = pca.fit_transform(X_train)\n",
    "    \n",
    "    rf = RandomForestRegressor(**best_params, random_state=42)\n",
    "    scores = cross_val_score(rf, X_train_pca, y_train, cv=3, n_jobs=8, scoring='r2')\n",
    "    \n",
    "    return -scores.mean()"
   ]
  },
  {
   "cell_type": "code",
   "execution_count": 33,
   "id": "fe94da25",
   "metadata": {},
   "outputs": [
    {
     "name": "stderr",
     "output_type": "stream",
     "text": [
      "[I 2023-12-24 12:18:41,827] A new study created in memory with name: no-name-804a2bad-d98e-46a2-9148-6c082df67fd0\n",
      "[I 2023-12-24 12:20:09,734] Trial 0 finished with value: 0.2456802284110798 and parameters: {'n_components': 19}. Best is trial 0 with value: 0.2456802284110798.\n",
      "[I 2023-12-24 12:20:44,242] Trial 1 finished with value: 0.16181740870641514 and parameters: {'n_components': 7}. Best is trial 0 with value: 0.2456802284110798.\n",
      "[I 2023-12-24 12:21:07,785] Trial 2 finished with value: -0.008187990793953381 and parameters: {'n_components': 29}. Best is trial 0 with value: 0.2456802284110798.\n",
      "[I 2023-12-24 12:21:08,053] Trial 3 finished with value: 0.26539158417482284 and parameters: {'n_components': 24}. Best is trial 3 with value: 0.26539158417482284.\n",
      "[I 2023-12-24 12:21:08,270] Trial 4 finished with value: 0.26539158417482284 and parameters: {'n_components': 24}. Best is trial 3 with value: 0.26539158417482284.\n",
      "[I 2023-12-24 12:21:09,353] Trial 5 finished with value: 0.10764099520520658 and parameters: {'n_components': 38}. Best is trial 3 with value: 0.26539158417482284.\n",
      "[W 2023-12-24 12:21:09,841] Trial 6 failed with parameters: {'n_components': 1} because of the following error: The value nan is not acceptable.\n",
      "[W 2023-12-24 12:21:09,874] Trial 6 failed with value nan.\n",
      "[I 2023-12-24 12:21:10,423] Trial 7 finished with value: 0.12935038998665593 and parameters: {'n_components': 25}. Best is trial 3 with value: 0.26539158417482284.\n",
      "[I 2023-12-24 12:21:10,914] Trial 8 finished with value: 0.14416683992432433 and parameters: {'n_components': 8}. Best is trial 3 with value: 0.26539158417482284.\n",
      "[I 2023-12-24 12:21:11,339] Trial 9 finished with value: 0.10764099520520658 and parameters: {'n_components': 38}. Best is trial 3 with value: 0.26539158417482284.\n",
      "[I 2023-12-24 12:21:11,691] Trial 10 finished with value: 0.2151507466657652 and parameters: {'n_components': 20}. Best is trial 3 with value: 0.26539158417482284.\n",
      "[I 2023-12-24 12:21:12,988] Trial 11 finished with value: 0.4421527080211492 and parameters: {'n_components': 14}. Best is trial 11 with value: 0.4421527080211492.\n",
      "[I 2023-12-24 12:21:13,223] Trial 12 finished with value: 0.4421527080211492 and parameters: {'n_components': 14}. Best is trial 11 with value: 0.4421527080211492.\n",
      "[I 2023-12-24 12:21:13,495] Trial 13 finished with value: 0.2098759813283292 and parameters: {'n_components': 13}. Best is trial 11 with value: 0.4421527080211492.\n",
      "[W 2023-12-24 12:21:13,687] Trial 14 failed with parameters: {'n_components': 1} because of the following error: The value nan is not acceptable.\n",
      "[W 2023-12-24 12:21:13,717] Trial 14 failed with value nan.\n",
      "[I 2023-12-24 12:21:13,985] Trial 15 finished with value: 0.4421527080211492 and parameters: {'n_components': 14}. Best is trial 11 with value: 0.4421527080211492.\n",
      "[W 2023-12-24 12:21:14,132] Trial 16 failed with parameters: {'n_components': 2} because of the following error: The value nan is not acceptable.\n",
      "[W 2023-12-24 12:21:14,133] Trial 16 failed with value nan.\n",
      "[W 2023-12-24 12:21:14,267] Trial 17 failed with parameters: {'n_components': 1} because of the following error: The value nan is not acceptable.\n",
      "[W 2023-12-24 12:21:14,303] Trial 17 failed with value nan.\n",
      "[I 2023-12-24 12:21:14,507] Trial 18 finished with value: 0.25851339611343604 and parameters: {'n_components': 15}. Best is trial 11 with value: 0.4421527080211492.\n",
      "[W 2023-12-24 12:21:14,662] Trial 19 failed with parameters: {'n_components': 3} because of the following error: The value nan is not acceptable.\n",
      "[W 2023-12-24 12:21:14,680] Trial 19 failed with value nan.\n",
      "[W 2023-12-24 12:21:14,850] Trial 20 failed with parameters: {'n_components': 2} because of the following error: The value nan is not acceptable.\n",
      "[W 2023-12-24 12:21:14,852] Trial 20 failed with value nan.\n",
      "[W 2023-12-24 12:21:15,055] Trial 21 failed with parameters: {'n_components': 2} because of the following error: The value nan is not acceptable.\n",
      "[W 2023-12-24 12:21:15,066] Trial 21 failed with value nan.\n",
      "[W 2023-12-24 12:21:15,233] Trial 22 failed with parameters: {'n_components': 3} because of the following error: The value nan is not acceptable.\n",
      "[W 2023-12-24 12:21:15,240] Trial 22 failed with value nan.\n",
      "[W 2023-12-24 12:21:15,398] Trial 23 failed with parameters: {'n_components': 1} because of the following error: The value nan is not acceptable.\n",
      "[W 2023-12-24 12:21:15,404] Trial 23 failed with value nan.\n",
      "[W 2023-12-24 12:21:15,567] Trial 24 failed with parameters: {'n_components': 4} because of the following error: The value nan is not acceptable.\n",
      "[W 2023-12-24 12:21:15,571] Trial 24 failed with value nan.\n",
      "[W 2023-12-24 12:21:15,741] Trial 25 failed with parameters: {'n_components': 1} because of the following error: The value nan is not acceptable.\n",
      "[W 2023-12-24 12:21:15,819] Trial 25 failed with value nan.\n",
      "[W 2023-12-24 12:21:15,954] Trial 26 failed with parameters: {'n_components': 4} because of the following error: The value nan is not acceptable.\n",
      "[W 2023-12-24 12:21:15,957] Trial 26 failed with value nan.\n",
      "[W 2023-12-24 12:21:16,124] Trial 27 failed with parameters: {'n_components': 1} because of the following error: The value nan is not acceptable.\n",
      "[W 2023-12-24 12:21:16,133] Trial 27 failed with value nan.\n",
      "[W 2023-12-24 12:21:16,414] Trial 28 failed with parameters: {'n_components': 2} because of the following error: The value nan is not acceptable.\n",
      "[W 2023-12-24 12:21:16,421] Trial 28 failed with value nan.\n",
      "[W 2023-12-24 12:21:16,569] Trial 29 failed with parameters: {'n_components': 2} because of the following error: The value nan is not acceptable.\n",
      "[W 2023-12-24 12:21:16,585] Trial 29 failed with value nan.\n",
      "[W 2023-12-24 12:21:16,722] Trial 30 failed with parameters: {'n_components': 2} because of the following error: The value nan is not acceptable.\n",
      "[W 2023-12-24 12:21:16,732] Trial 30 failed with value nan.\n",
      "[W 2023-12-24 12:21:16,891] Trial 31 failed with parameters: {'n_components': 3} because of the following error: The value nan is not acceptable.\n",
      "[W 2023-12-24 12:21:16,895] Trial 31 failed with value nan.\n",
      "[W 2023-12-24 12:21:17,067] Trial 32 failed with parameters: {'n_components': 1} because of the following error: The value nan is not acceptable.\n",
      "[W 2023-12-24 12:21:17,069] Trial 32 failed with value nan.\n",
      "[W 2023-12-24 12:21:17,245] Trial 33 failed with parameters: {'n_components': 2} because of the following error: The value nan is not acceptable.\n",
      "[W 2023-12-24 12:21:17,247] Trial 33 failed with value nan.\n",
      "[I 2023-12-24 12:21:17,416] Trial 34 finished with value: 0.25611908830663543 and parameters: {'n_components': 6}. Best is trial 11 with value: 0.4421527080211492.\n",
      "[W 2023-12-24 12:21:18,047] Trial 35 failed with parameters: {'n_components': 3} because of the following error: The value nan is not acceptable.\n",
      "[W 2023-12-24 12:21:18,053] Trial 35 failed with value nan.\n",
      "[I 2023-12-24 12:21:18,332] Trial 36 finished with value: 0.299391385360025 and parameters: {'n_components': 11}. Best is trial 11 with value: 0.4421527080211492.\n",
      "[W 2023-12-24 12:21:18,574] Trial 37 failed with parameters: {'n_components': 1} because of the following error: The value nan is not acceptable.\n",
      "[W 2023-12-24 12:21:18,586] Trial 37 failed with value nan.\n",
      "[W 2023-12-24 12:21:18,723] Trial 38 failed with parameters: {'n_components': 1} because of the following error: The value nan is not acceptable.\n",
      "[W 2023-12-24 12:21:18,731] Trial 38 failed with value nan.\n",
      "[W 2023-12-24 12:21:18,899] Trial 39 failed with parameters: {'n_components': 1} because of the following error: The value nan is not acceptable.\n",
      "[W 2023-12-24 12:21:18,900] Trial 39 failed with value nan.\n",
      "[W 2023-12-24 12:21:19,078] Trial 40 failed with parameters: {'n_components': 1} because of the following error: The value nan is not acceptable.\n",
      "[W 2023-12-24 12:21:19,083] Trial 40 failed with value nan.\n",
      "[W 2023-12-24 12:21:19,219] Trial 41 failed with parameters: {'n_components': 2} because of the following error: The value nan is not acceptable.\n",
      "[W 2023-12-24 12:21:19,223] Trial 41 failed with value nan.\n",
      "[W 2023-12-24 12:21:19,400] Trial 42 failed with parameters: {'n_components': 1} because of the following error: The value nan is not acceptable.\n",
      "[W 2023-12-24 12:21:19,403] Trial 42 failed with value nan.\n",
      "[W 2023-12-24 12:21:19,539] Trial 43 failed with parameters: {'n_components': 4} because of the following error: The value nan is not acceptable.\n",
      "[W 2023-12-24 12:21:19,540] Trial 43 failed with value nan.\n",
      "[W 2023-12-24 12:21:19,683] Trial 44 failed with parameters: {'n_components': 1} because of the following error: The value nan is not acceptable.\n",
      "[W 2023-12-24 12:21:19,685] Trial 44 failed with value nan.\n",
      "[W 2023-12-24 12:21:19,902] Trial 45 failed with parameters: {'n_components': 1} because of the following error: The value nan is not acceptable.\n",
      "[W 2023-12-24 12:21:19,904] Trial 45 failed with value nan.\n",
      "[W 2023-12-24 12:21:20,067] Trial 46 failed with parameters: {'n_components': 4} because of the following error: The value nan is not acceptable.\n",
      "[W 2023-12-24 12:21:20,074] Trial 46 failed with value nan.\n",
      "[W 2023-12-24 12:21:20,298] Trial 47 failed with parameters: {'n_components': 2} because of the following error: The value nan is not acceptable.\n",
      "[W 2023-12-24 12:21:20,304] Trial 47 failed with value nan.\n",
      "[W 2023-12-24 12:21:21,100] Trial 48 failed with parameters: {'n_components': 3} because of the following error: The value nan is not acceptable.\n",
      "[W 2023-12-24 12:21:21,101] Trial 48 failed with value nan.\n",
      "[W 2023-12-24 12:21:21,736] Trial 49 failed with parameters: {'n_components': 2} because of the following error: The value nan is not acceptable.\n",
      "[W 2023-12-24 12:21:21,744] Trial 49 failed with value nan.\n",
      "[W 2023-12-24 12:21:21,880] Trial 50 failed with parameters: {'n_components': 1} because of the following error: The value nan is not acceptable.\n",
      "[W 2023-12-24 12:21:21,882] Trial 50 failed with value nan.\n",
      "[W 2023-12-24 12:21:22,024] Trial 51 failed with parameters: {'n_components': 1} because of the following error: The value nan is not acceptable.\n",
      "[W 2023-12-24 12:21:22,034] Trial 51 failed with value nan.\n",
      "[W 2023-12-24 12:21:22,221] Trial 52 failed with parameters: {'n_components': 3} because of the following error: The value nan is not acceptable.\n",
      "[W 2023-12-24 12:21:22,223] Trial 52 failed with value nan.\n",
      "[W 2023-12-24 12:21:22,362] Trial 53 failed with parameters: {'n_components': 1} because of the following error: The value nan is not acceptable.\n",
      "[W 2023-12-24 12:21:22,364] Trial 53 failed with value nan.\n",
      "[I 2023-12-24 12:21:22,715] Trial 54 finished with value: 0.3356600075946356 and parameters: {'n_components': 30}. Best is trial 11 with value: 0.4421527080211492.\n",
      "[W 2023-12-24 12:21:23,249] Trial 55 failed with parameters: {'n_components': 4} because of the following error: The value nan is not acceptable.\n",
      "[W 2023-12-24 12:21:23,252] Trial 55 failed with value nan.\n",
      "[I 2023-12-24 12:21:24,735] Trial 56 finished with value: 0.22326506290778747 and parameters: {'n_components': 17}. Best is trial 11 with value: 0.4421527080211492.\n",
      "[W 2023-12-24 12:21:24,966] Trial 57 failed with parameters: {'n_components': 1} because of the following error: The value nan is not acceptable.\n",
      "[W 2023-12-24 12:21:24,974] Trial 57 failed with value nan.\n",
      "[W 2023-12-24 12:21:25,256] Trial 58 failed with parameters: {'n_components': 2} because of the following error: The value nan is not acceptable.\n",
      "[W 2023-12-24 12:21:25,257] Trial 58 failed with value nan.\n",
      "[W 2023-12-24 12:21:25,411] Trial 59 failed with parameters: {'n_components': 3} because of the following error: The value nan is not acceptable.\n",
      "[W 2023-12-24 12:21:25,416] Trial 59 failed with value nan.\n",
      "[I 2023-12-24 12:21:25,631] Trial 60 finished with value: 0.17827343331080758 and parameters: {'n_components': 10}. Best is trial 11 with value: 0.4421527080211492.\n",
      "[W 2023-12-24 12:21:26,482] Trial 61 failed with parameters: {'n_components': 2} because of the following error: The value nan is not acceptable.\n",
      "[W 2023-12-24 12:21:26,485] Trial 61 failed with value nan.\n",
      "[W 2023-12-24 12:21:26,767] Trial 62 failed with parameters: {'n_components': 1} because of the following error: The value nan is not acceptable.\n",
      "[W 2023-12-24 12:21:26,770] Trial 62 failed with value nan.\n",
      "[W 2023-12-24 12:21:27,149] Trial 63 failed with parameters: {'n_components': 2} because of the following error: The value nan is not acceptable.\n",
      "[W 2023-12-24 12:21:27,150] Trial 63 failed with value nan.\n",
      "[W 2023-12-24 12:21:27,316] Trial 64 failed with parameters: {'n_components': 4} because of the following error: The value nan is not acceptable.\n",
      "[W 2023-12-24 12:21:27,332] Trial 64 failed with value nan.\n",
      "[W 2023-12-24 12:21:27,600] Trial 65 failed with parameters: {'n_components': 5} because of the following error: The value nan is not acceptable.\n",
      "[W 2023-12-24 12:21:27,602] Trial 65 failed with value nan.\n",
      "[W 2023-12-24 12:21:27,820] Trial 66 failed with parameters: {'n_components': 2} because of the following error: The value nan is not acceptable.\n",
      "[W 2023-12-24 12:21:27,830] Trial 66 failed with value nan.\n",
      "[W 2023-12-24 12:21:28,047] Trial 67 failed with parameters: {'n_components': 2} because of the following error: The value nan is not acceptable.\n",
      "[W 2023-12-24 12:21:28,050] Trial 67 failed with value nan.\n",
      "[W 2023-12-24 12:21:28,261] Trial 68 failed with parameters: {'n_components': 1} because of the following error: The value nan is not acceptable.\n",
      "[W 2023-12-24 12:21:28,267] Trial 68 failed with value nan.\n",
      "[I 2023-12-24 12:21:28,466] Trial 69 finished with value: 0.08200700178181826 and parameters: {'n_components': 32}. Best is trial 11 with value: 0.4421527080211492.\n",
      "[W 2023-12-24 12:21:28,769] Trial 70 failed with parameters: {'n_components': 2} because of the following error: The value nan is not acceptable.\n",
      "[W 2023-12-24 12:21:28,773] Trial 70 failed with value nan.\n",
      "[I 2023-12-24 12:21:29,040] Trial 71 finished with value: 0.25851339611343604 and parameters: {'n_components': 15}. Best is trial 11 with value: 0.4421527080211492.\n",
      "[W 2023-12-24 12:21:29,446] Trial 72 failed with parameters: {'n_components': 2} because of the following error: The value nan is not acceptable.\n",
      "[W 2023-12-24 12:21:29,451] Trial 72 failed with value nan.\n",
      "[W 2023-12-24 12:21:29,703] Trial 73 failed with parameters: {'n_components': 4} because of the following error: The value nan is not acceptable.\n",
      "[W 2023-12-24 12:21:29,705] Trial 73 failed with value nan.\n",
      "[W 2023-12-24 12:21:29,847] Trial 74 failed with parameters: {'n_components': 4} because of the following error: The value nan is not acceptable.\n",
      "[W 2023-12-24 12:21:29,850] Trial 74 failed with value nan.\n",
      "[W 2023-12-24 12:21:29,987] Trial 75 failed with parameters: {'n_components': 5} because of the following error: The value nan is not acceptable.\n",
      "[W 2023-12-24 12:21:29,989] Trial 75 failed with value nan.\n",
      "[W 2023-12-24 12:21:30,181] Trial 76 failed with parameters: {'n_components': 1} because of the following error: The value nan is not acceptable.\n",
      "[W 2023-12-24 12:21:30,184] Trial 76 failed with value nan.\n",
      "[W 2023-12-24 12:21:30,309] Trial 77 failed with parameters: {'n_components': 1} because of the following error: The value nan is not acceptable.\n",
      "[W 2023-12-24 12:21:30,317] Trial 77 failed with value nan.\n",
      "[W 2023-12-24 12:21:30,544] Trial 78 failed with parameters: {'n_components': 3} because of the following error: The value nan is not acceptable.\n",
      "[W 2023-12-24 12:21:30,546] Trial 78 failed with value nan.\n",
      "[I 2023-12-24 12:21:30,735] Trial 79 finished with value: 0.2524786787859666 and parameters: {'n_components': 12}. Best is trial 11 with value: 0.4421527080211492.\n",
      "[I 2023-12-24 12:21:30,927] Trial 80 finished with value: 0.07419997995792249 and parameters: {'n_components': 18}. Best is trial 11 with value: 0.4421527080211492.\n",
      "[W 2023-12-24 12:21:31,038] Trial 81 failed with parameters: {'n_components': 1} because of the following error: The value nan is not acceptable.\n",
      "[W 2023-12-24 12:21:31,039] Trial 81 failed with value nan.\n",
      "[W 2023-12-24 12:21:31,549] Trial 82 failed with parameters: {'n_components': 1} because of the following error: The value nan is not acceptable.\n",
      "[W 2023-12-24 12:21:31,551] Trial 82 failed with value nan.\n",
      "[W 2023-12-24 12:21:31,929] Trial 83 failed with parameters: {'n_components': 1} because of the following error: The value nan is not acceptable.\n",
      "[W 2023-12-24 12:21:31,935] Trial 83 failed with value nan.\n",
      "[W 2023-12-24 12:21:32,136] Trial 84 failed with parameters: {'n_components': 5} because of the following error: The value nan is not acceptable.\n",
      "[W 2023-12-24 12:21:32,151] Trial 84 failed with value nan.\n",
      "[W 2023-12-24 12:21:32,345] Trial 85 failed with parameters: {'n_components': 1} because of the following error: The value nan is not acceptable.\n",
      "[W 2023-12-24 12:21:32,347] Trial 85 failed with value nan.\n",
      "[W 2023-12-24 12:21:32,515] Trial 86 failed with parameters: {'n_components': 2} because of the following error: The value nan is not acceptable.\n",
      "[W 2023-12-24 12:21:32,517] Trial 86 failed with value nan.\n",
      "[W 2023-12-24 12:21:32,628] Trial 87 failed with parameters: {'n_components': 3} because of the following error: The value nan is not acceptable.\n",
      "[W 2023-12-24 12:21:32,634] Trial 87 failed with value nan.\n",
      "[W 2023-12-24 12:21:32,816] Trial 88 failed with parameters: {'n_components': 5} because of the following error: The value nan is not acceptable.\n",
      "[W 2023-12-24 12:21:32,817] Trial 88 failed with value nan.\n",
      "[W 2023-12-24 12:21:33,021] Trial 89 failed with parameters: {'n_components': 2} because of the following error: The value nan is not acceptable.\n",
      "[W 2023-12-24 12:21:33,029] Trial 89 failed with value nan.\n",
      "[W 2023-12-24 12:21:33,227] Trial 90 failed with parameters: {'n_components': 2} because of the following error: The value nan is not acceptable.\n",
      "[W 2023-12-24 12:21:33,231] Trial 90 failed with value nan.\n",
      "[W 2023-12-24 12:21:33,339] Trial 91 failed with parameters: {'n_components': 5} because of the following error: The value nan is not acceptable.\n",
      "[W 2023-12-24 12:21:33,345] Trial 91 failed with value nan.\n",
      "[W 2023-12-24 12:21:33,454] Trial 92 failed with parameters: {'n_components': 1} because of the following error: The value nan is not acceptable.\n",
      "[W 2023-12-24 12:21:33,466] Trial 92 failed with value nan.\n",
      "[W 2023-12-24 12:21:33,597] Trial 93 failed with parameters: {'n_components': 2} because of the following error: The value nan is not acceptable.\n",
      "[W 2023-12-24 12:21:33,603] Trial 93 failed with value nan.\n",
      "[W 2023-12-24 12:21:33,737] Trial 94 failed with parameters: {'n_components': 2} because of the following error: The value nan is not acceptable.\n",
      "[W 2023-12-24 12:21:33,745] Trial 94 failed with value nan.\n",
      "[W 2023-12-24 12:21:33,938] Trial 95 failed with parameters: {'n_components': 3} because of the following error: The value nan is not acceptable.\n",
      "[W 2023-12-24 12:21:33,943] Trial 95 failed with value nan.\n",
      "[W 2023-12-24 12:21:34,535] Trial 96 failed with parameters: {'n_components': 1} because of the following error: The value nan is not acceptable.\n",
      "[W 2023-12-24 12:21:34,540] Trial 96 failed with value nan.\n",
      "[W 2023-12-24 12:21:34,664] Trial 97 failed with parameters: {'n_components': 1} because of the following error: The value nan is not acceptable.\n",
      "[W 2023-12-24 12:21:34,670] Trial 97 failed with value nan.\n",
      "[W 2023-12-24 12:21:34,793] Trial 98 failed with parameters: {'n_components': 3} because of the following error: The value nan is not acceptable.\n",
      "[W 2023-12-24 12:21:34,797] Trial 98 failed with value nan.\n",
      "[W 2023-12-24 12:21:34,951] Trial 99 failed with parameters: {'n_components': 3} because of the following error: The value nan is not acceptable.\n",
      "[W 2023-12-24 12:21:34,956] Trial 99 failed with value nan.\n"
     ]
    }
   ],
   "source": [
    "study_pca = optuna.create_study(direction='maximize')\n",
    "study_pca.optimize(pca_objective, n_trials=100)"
   ]
  },
  {
   "cell_type": "code",
   "execution_count": 34,
   "id": "e7174086",
   "metadata": {},
   "outputs": [],
   "source": [
    "best_pca_components = study_pca.best_params['n_components']"
   ]
  },
  {
   "cell_type": "code",
   "execution_count": 35,
   "id": "22eba2c7",
   "metadata": {},
   "outputs": [],
   "source": [
    "pca = PCA(n_components=best_pca_components, svd_solver='full')\n",
    "X_train_pca = pca.fit_transform(X_train)\n",
    "X_test_pca = pca.transform(X_test)"
   ]
  },
  {
   "cell_type": "code",
   "execution_count": 36,
   "id": "9f7aae6f",
   "metadata": {},
   "outputs": [
    {
     "data": {
      "text/plain": [
       "RandomForestRegressor(max_features=6, n_estimators=11, random_state=42)"
      ]
     },
     "execution_count": 36,
     "metadata": {},
     "output_type": "execute_result"
    }
   ],
   "source": [
    "final_rf_pca = RandomForestRegressor(**best_params, random_state=42)\n",
    "final_rf_pca.fit(X_train_pca, y_train)"
   ]
  },
  {
   "cell_type": "code",
   "execution_count": 37,
   "id": "d14352bd",
   "metadata": {},
   "outputs": [
    {
     "name": "stdout",
     "output_type": "stream",
     "text": [
      "Train R-squared (PCA): 0.8381481210918975\n",
      "Test R-squared (PCA): -0.011167542157701993\n"
     ]
    }
   ],
   "source": [
    "train_score_pca = final_rf_pca.score(X_train_pca, y_train)\n",
    "test_score_pca = final_rf_pca.score(X_test_pca, y_test)\n",
    "print(\"Train R-squared (PCA):\", train_score_pca)\n",
    "print(\"Test R-squared (PCA):\", test_score_pca)"
   ]
  },
  {
   "cell_type": "code",
   "execution_count": null,
   "id": "1e33d710",
   "metadata": {},
   "outputs": [],
   "source": []
  }
 ],
 "metadata": {
  "kernelspec": {
   "display_name": "Python 3 (ipykernel)",
   "language": "python",
   "name": "python3"
  },
  "language_info": {
   "codemirror_mode": {
    "name": "ipython",
    "version": 3
   },
   "file_extension": ".py",
   "mimetype": "text/x-python",
   "name": "python",
   "nbconvert_exporter": "python",
   "pygments_lexer": "ipython3",
   "version": "3.9.13"
  }
 },
 "nbformat": 4,
 "nbformat_minor": 5
}
